{
 "cells": [
  {
   "cell_type": "markdown",
   "metadata": {
    "id": "Ux-hS1AogrXl"
   },
   "source": [
    "# AML 3104 MIDTERM EXAM\n",
    "# Students Performance in Exams\n",
    "Link to the dataset: https://www.kaggle.com/datasets/whenamancodes/students-performance-in-exams\n",
    "Group 5 Members:\n",
    "Dinampo, Vengie\n",
    "Discaya, Neil Patrick\n",
    "Harjreet, Kaur\n",
    "Padillo, Rubylyn\n",
    "Sittisakornsilp, Kriengkrai"
   ]
  },
  {
   "cell_type": "markdown",
   "metadata": {
    "id": "GMnOGb6sgrXm"
   },
   "source": [
    "# Problem Statement:\n",
    "The data set consists of the marks secured by the students in various subjects. The objective of this problem is to determine the overall success of student in all areas of math, reading and writing based on other features indicated in the dataset. Since there are three dependent variables involved as the output, think about how can you perform feature engineering to fit this into your model."
   ]
  },
  {
   "cell_type": "markdown",
   "metadata": {
    "id": "ZAWxBbzKgrXm"
   },
   "source": [
    "# Import all required Libraries"
   ]
  },
  {
   "cell_type": "code",
   "execution_count": 1,
   "metadata": {
    "id": "FWNTwsvjgrXm"
   },
   "outputs": [],
   "source": [
    "import numpy as np # linear algebra\n",
    "import pandas as pd # data processing, CSV file I/O (e.g. pd.read_csv)"
   ]
  },
  {
   "cell_type": "code",
   "execution_count": 2,
   "metadata": {
    "id": "ujtbiec2grXn"
   },
   "outputs": [],
   "source": [
    "import seaborn as sns\n",
    "import matplotlib.pyplot as plt\n",
    "%matplotlib inline\n",
    "import plotly"
   ]
  },
  {
   "cell_type": "markdown",
   "metadata": {
    "id": "JfWiF0b-grXn"
   },
   "source": [
    "# Reading the dataset exams.scv"
   ]
  },
  {
   "cell_type": "code",
   "execution_count": 3,
   "metadata": {
    "colab": {
     "base_uri": "https://localhost:8080/",
     "height": 206
    },
    "id": "anrsf3NPgrXn",
    "outputId": "61365176-6576-44f0-ce77-05daa602b654"
   },
   "outputs": [
    {
     "data": {
      "text/html": [
       "<div>\n",
       "<style scoped>\n",
       "    .dataframe tbody tr th:only-of-type {\n",
       "        vertical-align: middle;\n",
       "    }\n",
       "\n",
       "    .dataframe tbody tr th {\n",
       "        vertical-align: top;\n",
       "    }\n",
       "\n",
       "    .dataframe thead th {\n",
       "        text-align: right;\n",
       "    }\n",
       "</style>\n",
       "<table border=\"1\" class=\"dataframe\">\n",
       "  <thead>\n",
       "    <tr style=\"text-align: right;\">\n",
       "      <th></th>\n",
       "      <th>gender</th>\n",
       "      <th>race/ethnicity</th>\n",
       "      <th>parental level of education</th>\n",
       "      <th>lunch</th>\n",
       "      <th>test preparation course</th>\n",
       "      <th>math score</th>\n",
       "      <th>reading score</th>\n",
       "      <th>writing score</th>\n",
       "    </tr>\n",
       "  </thead>\n",
       "  <tbody>\n",
       "    <tr>\n",
       "      <th>0</th>\n",
       "      <td>male</td>\n",
       "      <td>group A</td>\n",
       "      <td>high school</td>\n",
       "      <td>standard</td>\n",
       "      <td>completed</td>\n",
       "      <td>67</td>\n",
       "      <td>67</td>\n",
       "      <td>63</td>\n",
       "    </tr>\n",
       "    <tr>\n",
       "      <th>1</th>\n",
       "      <td>female</td>\n",
       "      <td>group D</td>\n",
       "      <td>some high school</td>\n",
       "      <td>free/reduced</td>\n",
       "      <td>none</td>\n",
       "      <td>40</td>\n",
       "      <td>59</td>\n",
       "      <td>55</td>\n",
       "    </tr>\n",
       "    <tr>\n",
       "      <th>2</th>\n",
       "      <td>male</td>\n",
       "      <td>group E</td>\n",
       "      <td>some college</td>\n",
       "      <td>free/reduced</td>\n",
       "      <td>none</td>\n",
       "      <td>59</td>\n",
       "      <td>60</td>\n",
       "      <td>50</td>\n",
       "    </tr>\n",
       "    <tr>\n",
       "      <th>3</th>\n",
       "      <td>male</td>\n",
       "      <td>group B</td>\n",
       "      <td>high school</td>\n",
       "      <td>standard</td>\n",
       "      <td>none</td>\n",
       "      <td>77</td>\n",
       "      <td>78</td>\n",
       "      <td>68</td>\n",
       "    </tr>\n",
       "    <tr>\n",
       "      <th>4</th>\n",
       "      <td>male</td>\n",
       "      <td>group E</td>\n",
       "      <td>associate's degree</td>\n",
       "      <td>standard</td>\n",
       "      <td>completed</td>\n",
       "      <td>78</td>\n",
       "      <td>73</td>\n",
       "      <td>68</td>\n",
       "    </tr>\n",
       "  </tbody>\n",
       "</table>\n",
       "</div>"
      ],
      "text/plain": [
       "   gender race/ethnicity parental level of education         lunch  \\\n",
       "0    male        group A                 high school      standard   \n",
       "1  female        group D            some high school  free/reduced   \n",
       "2    male        group E                some college  free/reduced   \n",
       "3    male        group B                 high school      standard   \n",
       "4    male        group E          associate's degree      standard   \n",
       "\n",
       "  test preparation course  math score  reading score  writing score  \n",
       "0               completed          67             67             63  \n",
       "1                    none          40             59             55  \n",
       "2                    none          59             60             50  \n",
       "3                    none          77             78             68  \n",
       "4               completed          78             73             68  "
      ]
     },
     "execution_count": 3,
     "metadata": {},
     "output_type": "execute_result"
    }
   ],
   "source": [
    "data_url='https://raw.githubusercontent.com/vengie/student_performance/main/exams.csv'\n",
    "data = pd.read_csv(data_url)\n",
    "data.head()"
   ]
  },
  {
   "cell_type": "code",
   "execution_count": 4,
   "metadata": {
    "colab": {
     "base_uri": "https://localhost:8080/"
    },
    "id": "BawM-GctgrXo",
    "outputId": "5d0c3b48-8ab4-4e74-e8be-13c7063d8044"
   },
   "outputs": [
    {
     "name": "stdout",
     "output_type": "stream",
     "text": [
      "<class 'pandas.core.frame.DataFrame'>\n",
      "RangeIndex: 1000 entries, 0 to 999\n",
      "Data columns (total 8 columns):\n",
      " #   Column                       Non-Null Count  Dtype \n",
      "---  ------                       --------------  ----- \n",
      " 0   gender                       1000 non-null   object\n",
      " 1   race/ethnicity               1000 non-null   object\n",
      " 2   parental level of education  1000 non-null   object\n",
      " 3   lunch                        1000 non-null   object\n",
      " 4   test preparation course      1000 non-null   object\n",
      " 5   math score                   1000 non-null   int64 \n",
      " 6   reading score                1000 non-null   int64 \n",
      " 7   writing score                1000 non-null   int64 \n",
      "dtypes: int64(3), object(5)\n",
      "memory usage: 62.6+ KB\n"
     ]
    }
   ],
   "source": [
    "data.info() #checking the null and Dtypes"
   ]
  },
  {
   "cell_type": "code",
   "execution_count": 5,
   "metadata": {
    "colab": {
     "base_uri": "https://localhost:8080/"
    },
    "id": "WdgH2MzhgrXo",
    "outputId": "ddb9f316-3ccb-4bf0-ca59-5c50b503d9fe"
   },
   "outputs": [
    {
     "data": {
      "text/plain": [
       "Index(['gender', 'race/ethnicity', 'parental level of education', 'lunch',\n",
       "       'test preparation course', 'math score', 'reading score',\n",
       "       'writing score'],\n",
       "      dtype='object')"
      ]
     },
     "execution_count": 5,
     "metadata": {},
     "output_type": "execute_result"
    }
   ],
   "source": [
    "data.columns #showing the columns"
   ]
  },
  {
   "cell_type": "code",
   "execution_count": 6,
   "metadata": {
    "colab": {
     "base_uri": "https://localhost:8080/",
     "height": 423
    },
    "id": "fnbip3_GgrXo",
    "outputId": "c1393f07-1038-4a22-d574-9088eec1feee"
   },
   "outputs": [
    {
     "data": {
      "text/html": [
       "<div>\n",
       "<style scoped>\n",
       "    .dataframe tbody tr th:only-of-type {\n",
       "        vertical-align: middle;\n",
       "    }\n",
       "\n",
       "    .dataframe tbody tr th {\n",
       "        vertical-align: top;\n",
       "    }\n",
       "\n",
       "    .dataframe thead th {\n",
       "        text-align: right;\n",
       "    }\n",
       "</style>\n",
       "<table border=\"1\" class=\"dataframe\">\n",
       "  <thead>\n",
       "    <tr style=\"text-align: right;\">\n",
       "      <th></th>\n",
       "      <th>gender</th>\n",
       "      <th>race/ethnicity</th>\n",
       "      <th>parental level of education</th>\n",
       "      <th>lunch</th>\n",
       "      <th>test preparation course</th>\n",
       "      <th>math score</th>\n",
       "      <th>reading score</th>\n",
       "      <th>writing score</th>\n",
       "    </tr>\n",
       "  </thead>\n",
       "  <tbody>\n",
       "    <tr>\n",
       "      <th>0</th>\n",
       "      <td>False</td>\n",
       "      <td>False</td>\n",
       "      <td>False</td>\n",
       "      <td>False</td>\n",
       "      <td>False</td>\n",
       "      <td>False</td>\n",
       "      <td>False</td>\n",
       "      <td>False</td>\n",
       "    </tr>\n",
       "    <tr>\n",
       "      <th>1</th>\n",
       "      <td>False</td>\n",
       "      <td>False</td>\n",
       "      <td>False</td>\n",
       "      <td>False</td>\n",
       "      <td>False</td>\n",
       "      <td>False</td>\n",
       "      <td>False</td>\n",
       "      <td>False</td>\n",
       "    </tr>\n",
       "    <tr>\n",
       "      <th>2</th>\n",
       "      <td>False</td>\n",
       "      <td>False</td>\n",
       "      <td>False</td>\n",
       "      <td>False</td>\n",
       "      <td>False</td>\n",
       "      <td>False</td>\n",
       "      <td>False</td>\n",
       "      <td>False</td>\n",
       "    </tr>\n",
       "    <tr>\n",
       "      <th>3</th>\n",
       "      <td>False</td>\n",
       "      <td>False</td>\n",
       "      <td>False</td>\n",
       "      <td>False</td>\n",
       "      <td>False</td>\n",
       "      <td>False</td>\n",
       "      <td>False</td>\n",
       "      <td>False</td>\n",
       "    </tr>\n",
       "    <tr>\n",
       "      <th>4</th>\n",
       "      <td>False</td>\n",
       "      <td>False</td>\n",
       "      <td>False</td>\n",
       "      <td>False</td>\n",
       "      <td>False</td>\n",
       "      <td>False</td>\n",
       "      <td>False</td>\n",
       "      <td>False</td>\n",
       "    </tr>\n",
       "    <tr>\n",
       "      <th>...</th>\n",
       "      <td>...</td>\n",
       "      <td>...</td>\n",
       "      <td>...</td>\n",
       "      <td>...</td>\n",
       "      <td>...</td>\n",
       "      <td>...</td>\n",
       "      <td>...</td>\n",
       "      <td>...</td>\n",
       "    </tr>\n",
       "    <tr>\n",
       "      <th>995</th>\n",
       "      <td>False</td>\n",
       "      <td>False</td>\n",
       "      <td>False</td>\n",
       "      <td>False</td>\n",
       "      <td>False</td>\n",
       "      <td>False</td>\n",
       "      <td>False</td>\n",
       "      <td>False</td>\n",
       "    </tr>\n",
       "    <tr>\n",
       "      <th>996</th>\n",
       "      <td>False</td>\n",
       "      <td>False</td>\n",
       "      <td>False</td>\n",
       "      <td>False</td>\n",
       "      <td>False</td>\n",
       "      <td>False</td>\n",
       "      <td>False</td>\n",
       "      <td>False</td>\n",
       "    </tr>\n",
       "    <tr>\n",
       "      <th>997</th>\n",
       "      <td>False</td>\n",
       "      <td>False</td>\n",
       "      <td>False</td>\n",
       "      <td>False</td>\n",
       "      <td>False</td>\n",
       "      <td>False</td>\n",
       "      <td>False</td>\n",
       "      <td>False</td>\n",
       "    </tr>\n",
       "    <tr>\n",
       "      <th>998</th>\n",
       "      <td>False</td>\n",
       "      <td>False</td>\n",
       "      <td>False</td>\n",
       "      <td>False</td>\n",
       "      <td>False</td>\n",
       "      <td>False</td>\n",
       "      <td>False</td>\n",
       "      <td>False</td>\n",
       "    </tr>\n",
       "    <tr>\n",
       "      <th>999</th>\n",
       "      <td>False</td>\n",
       "      <td>False</td>\n",
       "      <td>False</td>\n",
       "      <td>False</td>\n",
       "      <td>False</td>\n",
       "      <td>False</td>\n",
       "      <td>False</td>\n",
       "      <td>False</td>\n",
       "    </tr>\n",
       "  </tbody>\n",
       "</table>\n",
       "<p>1000 rows × 8 columns</p>\n",
       "</div>"
      ],
      "text/plain": [
       "     gender  race/ethnicity  parental level of education  lunch  \\\n",
       "0     False           False                        False  False   \n",
       "1     False           False                        False  False   \n",
       "2     False           False                        False  False   \n",
       "3     False           False                        False  False   \n",
       "4     False           False                        False  False   \n",
       "..      ...             ...                          ...    ...   \n",
       "995   False           False                        False  False   \n",
       "996   False           False                        False  False   \n",
       "997   False           False                        False  False   \n",
       "998   False           False                        False  False   \n",
       "999   False           False                        False  False   \n",
       "\n",
       "     test preparation course  math score  reading score  writing score  \n",
       "0                      False       False          False          False  \n",
       "1                      False       False          False          False  \n",
       "2                      False       False          False          False  \n",
       "3                      False       False          False          False  \n",
       "4                      False       False          False          False  \n",
       "..                       ...         ...            ...            ...  \n",
       "995                    False       False          False          False  \n",
       "996                    False       False          False          False  \n",
       "997                    False       False          False          False  \n",
       "998                    False       False          False          False  \n",
       "999                    False       False          False          False  \n",
       "\n",
       "[1000 rows x 8 columns]"
      ]
     },
     "execution_count": 6,
     "metadata": {},
     "output_type": "execute_result"
    }
   ],
   "source": [
    "data.isnull() #checking null values"
   ]
  },
  {
   "cell_type": "code",
   "execution_count": 7,
   "metadata": {
    "colab": {
     "base_uri": "https://localhost:8080/"
    },
    "id": "GsT78jqegrXo",
    "outputId": "3087e007-a15f-476f-b5e3-fb6556dc9263"
   },
   "outputs": [
    {
     "data": {
      "text/plain": [
       "gender                         0\n",
       "race/ethnicity                 0\n",
       "parental level of education    0\n",
       "lunch                          0\n",
       "test preparation course        0\n",
       "math score                     0\n",
       "reading score                  0\n",
       "writing score                  0\n",
       "dtype: int64"
      ]
     },
     "execution_count": 7,
     "metadata": {},
     "output_type": "execute_result"
    }
   ],
   "source": [
    "data.isnull().sum() #summary of null values, if there is any"
   ]
  },
  {
   "cell_type": "code",
   "execution_count": 8,
   "metadata": {
    "colab": {
     "base_uri": "https://localhost:8080/"
    },
    "id": "pGpWlS03grXo",
    "outputId": "16e41c3d-cf31-4945-a34b-b08e40799e68"
   },
   "outputs": [
    {
     "data": {
      "text/plain": [
       "(1000, 8)"
      ]
     },
     "execution_count": 8,
     "metadata": {},
     "output_type": "execute_result"
    }
   ],
   "source": [
    "data.shape #dataset shape"
   ]
  },
  {
   "cell_type": "code",
   "execution_count": 9,
   "metadata": {
    "colab": {
     "base_uri": "https://localhost:8080/"
    },
    "id": "84wPSrCWgrXo",
    "outputId": "21babfbc-a2bd-4ae2-f5fd-fa539cb5049f"
   },
   "outputs": [
    {
     "name": "stdout",
     "output_type": "stream",
     "text": [
      "Dataset Details:\n",
      "Dataset has 1000 rows and 8 columns\n",
      "Duplicates: 1\n",
      "Total Missing Values: 0\n",
      "Number of rows with missing values: 0\n"
     ]
    }
   ],
   "source": [
    "print('Dataset Details:') #all dataset details Summary\n",
    "print(f\"Dataset has {data.shape[0]} rows and {data.shape[1]} columns\")\n",
    "print(f\"Duplicates: {data.duplicated().sum()}\")\n",
    "print(f\"Total Missing Values: {data.isna().sum().sum()}\")\n",
    "print(f\"Number of rows with missing values: {data.isna().any(axis=1).sum()}\")"
   ]
  },
  {
   "cell_type": "code",
   "execution_count": null,
   "metadata": {
    "id": "2NF62MRzgrXp"
   },
   "outputs": [],
   "source": []
  },
  {
   "cell_type": "markdown",
   "metadata": {
    "id": "29OFA2UIgrXp"
   },
   "source": [
    "# Renaming columns and Label encoding"
   ]
  },
  {
   "cell_type": "code",
   "execution_count": 10,
   "metadata": {
    "colab": {
     "base_uri": "https://localhost:8080/",
     "height": 206
    },
    "id": "tfXXmUTXgrXp",
    "outputId": "58c48d90-3f01-49b5-d19c-6075e6e2cf12"
   },
   "outputs": [
    {
     "data": {
      "text/html": [
       "<div>\n",
       "<style scoped>\n",
       "    .dataframe tbody tr th:only-of-type {\n",
       "        vertical-align: middle;\n",
       "    }\n",
       "\n",
       "    .dataframe tbody tr th {\n",
       "        vertical-align: top;\n",
       "    }\n",
       "\n",
       "    .dataframe thead th {\n",
       "        text-align: right;\n",
       "    }\n",
       "</style>\n",
       "<table border=\"1\" class=\"dataframe\">\n",
       "  <thead>\n",
       "    <tr style=\"text-align: right;\">\n",
       "      <th></th>\n",
       "      <th>gender</th>\n",
       "      <th>race_ethnicity</th>\n",
       "      <th>parent_education</th>\n",
       "      <th>lunch</th>\n",
       "      <th>test_preparation_course</th>\n",
       "      <th>math_score</th>\n",
       "      <th>reading_score</th>\n",
       "      <th>writing_score</th>\n",
       "    </tr>\n",
       "  </thead>\n",
       "  <tbody>\n",
       "    <tr>\n",
       "      <th>0</th>\n",
       "      <td>male</td>\n",
       "      <td>group A</td>\n",
       "      <td>high school</td>\n",
       "      <td>standard</td>\n",
       "      <td>completed</td>\n",
       "      <td>67</td>\n",
       "      <td>67</td>\n",
       "      <td>63</td>\n",
       "    </tr>\n",
       "    <tr>\n",
       "      <th>1</th>\n",
       "      <td>female</td>\n",
       "      <td>group D</td>\n",
       "      <td>some high school</td>\n",
       "      <td>free/reduced</td>\n",
       "      <td>none</td>\n",
       "      <td>40</td>\n",
       "      <td>59</td>\n",
       "      <td>55</td>\n",
       "    </tr>\n",
       "    <tr>\n",
       "      <th>2</th>\n",
       "      <td>male</td>\n",
       "      <td>group E</td>\n",
       "      <td>some college</td>\n",
       "      <td>free/reduced</td>\n",
       "      <td>none</td>\n",
       "      <td>59</td>\n",
       "      <td>60</td>\n",
       "      <td>50</td>\n",
       "    </tr>\n",
       "    <tr>\n",
       "      <th>3</th>\n",
       "      <td>male</td>\n",
       "      <td>group B</td>\n",
       "      <td>high school</td>\n",
       "      <td>standard</td>\n",
       "      <td>none</td>\n",
       "      <td>77</td>\n",
       "      <td>78</td>\n",
       "      <td>68</td>\n",
       "    </tr>\n",
       "    <tr>\n",
       "      <th>4</th>\n",
       "      <td>male</td>\n",
       "      <td>group E</td>\n",
       "      <td>associate's degree</td>\n",
       "      <td>standard</td>\n",
       "      <td>completed</td>\n",
       "      <td>78</td>\n",
       "      <td>73</td>\n",
       "      <td>68</td>\n",
       "    </tr>\n",
       "  </tbody>\n",
       "</table>\n",
       "</div>"
      ],
      "text/plain": [
       "   gender race_ethnicity    parent_education         lunch  \\\n",
       "0    male        group A         high school      standard   \n",
       "1  female        group D    some high school  free/reduced   \n",
       "2    male        group E        some college  free/reduced   \n",
       "3    male        group B         high school      standard   \n",
       "4    male        group E  associate's degree      standard   \n",
       "\n",
       "  test_preparation_course  math_score  reading_score  writing_score  \n",
       "0               completed          67             67             63  \n",
       "1                    none          40             59             55  \n",
       "2                    none          59             60             50  \n",
       "3                    none          77             78             68  \n",
       "4               completed          78             73             68  "
      ]
     },
     "execution_count": 10,
     "metadata": {},
     "output_type": "execute_result"
    }
   ],
   "source": [
    "data = data.rename(columns={\n",
    "    'race/ethnicity': 'race_ethnicity',\n",
    "    'parental level of education': 'parent_education',\n",
    "    'test preparation course': 'test_preparation_course',\n",
    "    'math score': 'math_score',\n",
    "    'reading score': 'reading_score',\n",
    "    'writing score': 'writing_score',\n",
    "    'overall success':'overall_success',\n",
    "})\n",
    "data.head()"
   ]
  },
  {
   "cell_type": "markdown",
   "metadata": {
    "id": "6QMnfKOpgrXp"
   },
   "source": [
    "# Exploratory Data Analysis (EDA) and Visualization"
   ]
  },
  {
   "cell_type": "code",
   "execution_count": 11,
   "metadata": {
    "colab": {
     "base_uri": "https://localhost:8080/",
     "height": 449
    },
    "id": "TbmCrPf_grXp",
    "outputId": "c91eb3a1-d8e4-4228-cbd6-7be791b1a2e4",
    "scrolled": true
   },
   "outputs": [
    {
     "data": {
      "image/png": "[encoded data removed]",
      "text/plain": [
       "<Figure size 432x288 with 1 Axes>"
      ]
     },
     "metadata": {
      "needs_background": "light"
     },
     "output_type": "display_data"
    }
   ],
   "source": [
    "sns.countplot(x=data[\"race_ethnicity\"], hue=data[\"gender\"], palette=\"coolwarm\")\n",
    "plt.xlabel(\"Race/Ethnicity\")\n",
    "plt.ylabel(\"Frequency\")\n",
    "plt.show()"
   ]
  },
  {
   "cell_type": "code",
   "execution_count": 12,
   "metadata": {
    "colab": {
     "base_uri": "https://localhost:8080/",
     "height": 1000
    },
    "id": "omFI9OHwgrXp",
    "outputId": "d17e7ce5-bf72-4d5c-ac5f-6e1c7f923db5"
   },
   "outputs": [
    {
     "data": {
      "image/png": "[encoded data removed]",
      "text/plain": [
       "<Figure size 360x360 with 1 Axes>"
      ]
     },
     "metadata": {
      "needs_background": "light"
     },
     "output_type": "display_data"
    },
    {
     "name": "stdout",
     "output_type": "stream",
     "text": [
      "gender: \n",
      "male      517\n",
      "female    483\n",
      "Name: gender, dtype: int64\n"
     ]
    },
    {
     "data": {
      "image/png": "[encoded data removed]",
      "text/plain": [
       "<Figure size 360x360 with 1 Axes>"
      ]
     },
     "metadata": {
      "needs_background": "light"
     },
     "output_type": "display_data"
    },
    {
     "name": "stdout",
     "output_type": "stream",
     "text": [
      "race_ethnicity: \n",
      "group C    323\n",
      "group D    262\n",
      "group B    205\n",
      "group E    131\n",
      "group A     79\n",
      "Name: race_ethnicity, dtype: int64\n"
     ]
    },
    {
     "data": {
      "image/png": "[encoded data removed]",
      "text/plain": [
       "<Figure size 360x360 with 1 Axes>"
      ]
     },
     "metadata": {
      "needs_background": "light"
     },
     "output_type": "display_data"
    },
    {
     "name": "stdout",
     "output_type": "stream",
     "text": [
      "parent_education: \n",
      "some college          222\n",
      "associate's degree    203\n",
      "high school           202\n",
      "some high school      191\n",
      "bachelor's degree     112\n",
      "master's degree        70\n",
      "Name: parent_education, dtype: int64\n"
     ]
    },
    {
     "data": {
      "image/png": "[encoded data removed]",
      "text/plain": [
       "<Figure size 360x360 with 1 Axes>"
      ]
     },
     "metadata": {
      "needs_background": "light"
     },
     "output_type": "display_data"
    },
    {
     "name": "stdout",
     "output_type": "stream",
     "text": [
      "lunch: \n",
      "standard        652\n",
      "free/reduced    348\n",
      "Name: lunch, dtype: int64\n"
     ]
    },
    {
     "data": {
      "image/png": "[encoded data removed]",
      "text/plain": [
       "<Figure size 360x360 with 1 Axes>"
      ]
     },
     "metadata": {
      "needs_background": "light"
     },
     "output_type": "display_data"
    },
    {
     "name": "stdout",
     "output_type": "stream",
     "text": [
      "test_preparation_course: \n",
      "none         665\n",
      "completed    335\n",
      "Name: test_preparation_course, dtype: int64\n"
     ]
    }
   ],
   "source": [
    "col = ['gender', 'race_ethnicity', 'parent_education', 'lunch', 'test_preparation_course']\n",
    "\n",
    "for variable in col:\n",
    "    var = data[variable]\n",
    "    value = var.value_counts()\n",
    "\n",
    "    plt.figure(figsize =(5,5))\n",
    "    plt.bar(value.index, value, color='red')\n",
    "    plt.xticks(value.index, value.index.values,rotation=45)\n",
    "    plt.ylabel(\"Frequency\")\n",
    "    plt.title(variable)\n",
    "    plt.show()\n",
    "    print(\"{}: \\n{}\".format(variable,value))"
   ]
  },
  {
   "cell_type": "code",
   "execution_count": 13,
   "metadata": {
    "colab": {
     "base_uri": "https://localhost:8080/",
     "height": 507
    },
    "id": "HPK-MPJHgrXp",
    "outputId": "eace9e2a-a63b-4e49-c8b2-0db1b7e0783b"
   },
   "outputs": [
    {
     "data": {
      "text/plain": [
       "<matplotlib.axes._subplots.AxesSubplot at 0x285e9a334f0>"
      ]
     },
     "execution_count": 13,
     "metadata": {},
     "output_type": "execute_result"
    },
    {
     "data": {
      "image/png": "[encoded data removed]",
      "text/plain": [
       "<Figure size 432x288 with 2 Axes>"
      ]
     },
     "metadata": {
      "needs_background": "light"
     },
     "output_type": "display_data"
    }
   ],
   "source": [
    "corr = data.corr() #showing correlation using Heatmap\n",
    "sns.heatmap(data=corr)"
   ]
  },
  {
   "cell_type": "markdown",
   "metadata": {},
   "source": [
    "based on the heatmap. If a student perform good on one subject he will perform also good on the other subjects"
   ]
  },
  {
   "cell_type": "code",
   "execution_count": 14,
   "metadata": {
    "colab": {
     "base_uri": "https://localhost:8080/",
     "height": 269
    },
    "id": "VkSRJfdCgrXp",
    "outputId": "1fab4127-f563-4573-d503-2df0dfe49a2d"
   },
   "outputs": [
    {
     "data": {
      "text/html": [
       "<div>\n",
       "<style scoped>\n",
       "    .dataframe tbody tr th:only-of-type {\n",
       "        vertical-align: middle;\n",
       "    }\n",
       "\n",
       "    .dataframe tbody tr th {\n",
       "        vertical-align: top;\n",
       "    }\n",
       "\n",
       "    .dataframe thead th {\n",
       "        text-align: right;\n",
       "    }\n",
       "</style>\n",
       "<table border=\"1\" class=\"dataframe\">\n",
       "  <thead>\n",
       "    <tr style=\"text-align: right;\">\n",
       "      <th></th>\n",
       "      <th>math_score</th>\n",
       "      <th>reading_score</th>\n",
       "      <th>writing_score</th>\n",
       "    </tr>\n",
       "    <tr>\n",
       "      <th>parent_education</th>\n",
       "      <th></th>\n",
       "      <th></th>\n",
       "      <th></th>\n",
       "    </tr>\n",
       "  </thead>\n",
       "  <tbody>\n",
       "    <tr>\n",
       "      <th>master's degree</th>\n",
       "      <td>71.585714</td>\n",
       "      <td>75.428571</td>\n",
       "      <td>75.885714</td>\n",
       "    </tr>\n",
       "    <tr>\n",
       "      <th>bachelor's degree</th>\n",
       "      <td>71.491071</td>\n",
       "      <td>74.008929</td>\n",
       "      <td>74.410714</td>\n",
       "    </tr>\n",
       "    <tr>\n",
       "      <th>associate's degree</th>\n",
       "      <td>69.536946</td>\n",
       "      <td>70.985222</td>\n",
       "      <td>70.113300</td>\n",
       "    </tr>\n",
       "    <tr>\n",
       "      <th>some college</th>\n",
       "      <td>65.297297</td>\n",
       "      <td>68.045045</td>\n",
       "      <td>66.734234</td>\n",
       "    </tr>\n",
       "    <tr>\n",
       "      <th>high school</th>\n",
       "      <td>65.207921</td>\n",
       "      <td>67.400990</td>\n",
       "      <td>64.846535</td>\n",
       "    </tr>\n",
       "    <tr>\n",
       "      <th>some high school</th>\n",
       "      <td>60.701571</td>\n",
       "      <td>64.408377</td>\n",
       "      <td>62.539267</td>\n",
       "    </tr>\n",
       "  </tbody>\n",
       "</table>\n",
       "</div>"
      ],
      "text/plain": [
       "                    math_score  reading_score  writing_score\n",
       "parent_education                                            \n",
       "master's degree      71.585714      75.428571      75.885714\n",
       "bachelor's degree    71.491071      74.008929      74.410714\n",
       "associate's degree   69.536946      70.985222      70.113300\n",
       "some college         65.297297      68.045045      66.734234\n",
       "high school          65.207921      67.400990      64.846535\n",
       "some high school     60.701571      64.408377      62.539267"
      ]
     },
     "execution_count": 14,
     "metadata": {},
     "output_type": "execute_result"
    }
   ],
   "source": [
    "avg_education = data[[\"parent_education\",\"math_score\",\"reading_score\",\"writing_score\"]].groupby([\"parent_education\"]).mean().sort_values(by=\"math_score\",ascending = False)\n",
    "avg_education"
   ]
  },
  {
   "cell_type": "code",
   "execution_count": 15,
   "metadata": {
    "colab": {
     "base_uri": "https://localhost:8080/",
     "height": 688
    },
    "id": "39kn_CoGgrXp",
    "outputId": "5b0ebd08-ce8f-47c2-acd2-1cb17f3c97af"
   },
   "outputs": [
    {
     "data": {
      "image/png": "[encoded data removed]",
      "text/plain": [
       "<Figure size 576x576 with 1 Axes>"
      ]
     },
     "metadata": {},
     "output_type": "display_data"
    }
   ],
   "source": [
    "labels = data[\"parent_education\"].value_counts().index\n",
    "sizes = data[\"parent_education\"].value_counts()\n",
    "textprops = {\"fontsize\":20}\n",
    "plt.figure(figsize = (8,8))\n",
    "plt.pie(sizes, labels=labels, rotatelabels=False, autopct='%1.1f%%', startangle=45, textprops =textprops)\n",
    "plt.title('Parental level of Education in Pie chart',color = 'black',fontsize = 25)\n",
    "plt.show()"
   ]
  },
  {
   "cell_type": "markdown",
   "metadata": {
    "id": "Uc7_46qAgrXq"
   },
   "source": [
    "# Calculating the average of all scores"
   ]
  },
  {
   "cell_type": "code",
   "execution_count": 16,
   "metadata": {
    "colab": {
     "base_uri": "https://localhost:8080/",
     "height": 423
    },
    "id": "Dw16axUegrXq",
    "outputId": "cbd5b7ff-2c0c-4738-bc1b-e283642302c8"
   },
   "outputs": [
    {
     "data": {
      "text/html": [
       "<div>\n",
       "<style scoped>\n",
       "    .dataframe tbody tr th:only-of-type {\n",
       "        vertical-align: middle;\n",
       "    }\n",
       "\n",
       "    .dataframe tbody tr th {\n",
       "        vertical-align: top;\n",
       "    }\n",
       "\n",
       "    .dataframe thead th {\n",
       "        text-align: right;\n",
       "    }\n",
       "</style>\n",
       "<table border=\"1\" class=\"dataframe\">\n",
       "  <thead>\n",
       "    <tr style=\"text-align: right;\">\n",
       "      <th></th>\n",
       "      <th>math_score</th>\n",
       "      <th>reading_score</th>\n",
       "      <th>writing_score</th>\n",
       "    </tr>\n",
       "  </thead>\n",
       "  <tbody>\n",
       "    <tr>\n",
       "      <th>0</th>\n",
       "      <td>67</td>\n",
       "      <td>67</td>\n",
       "      <td>63</td>\n",
       "    </tr>\n",
       "    <tr>\n",
       "      <th>1</th>\n",
       "      <td>40</td>\n",
       "      <td>59</td>\n",
       "      <td>55</td>\n",
       "    </tr>\n",
       "    <tr>\n",
       "      <th>2</th>\n",
       "      <td>59</td>\n",
       "      <td>60</td>\n",
       "      <td>50</td>\n",
       "    </tr>\n",
       "    <tr>\n",
       "      <th>3</th>\n",
       "      <td>77</td>\n",
       "      <td>78</td>\n",
       "      <td>68</td>\n",
       "    </tr>\n",
       "    <tr>\n",
       "      <th>4</th>\n",
       "      <td>78</td>\n",
       "      <td>73</td>\n",
       "      <td>68</td>\n",
       "    </tr>\n",
       "    <tr>\n",
       "      <th>...</th>\n",
       "      <td>...</td>\n",
       "      <td>...</td>\n",
       "      <td>...</td>\n",
       "    </tr>\n",
       "    <tr>\n",
       "      <th>995</th>\n",
       "      <td>73</td>\n",
       "      <td>70</td>\n",
       "      <td>65</td>\n",
       "    </tr>\n",
       "    <tr>\n",
       "      <th>996</th>\n",
       "      <td>85</td>\n",
       "      <td>91</td>\n",
       "      <td>92</td>\n",
       "    </tr>\n",
       "    <tr>\n",
       "      <th>997</th>\n",
       "      <td>32</td>\n",
       "      <td>35</td>\n",
       "      <td>41</td>\n",
       "    </tr>\n",
       "    <tr>\n",
       "      <th>998</th>\n",
       "      <td>73</td>\n",
       "      <td>74</td>\n",
       "      <td>82</td>\n",
       "    </tr>\n",
       "    <tr>\n",
       "      <th>999</th>\n",
       "      <td>65</td>\n",
       "      <td>60</td>\n",
       "      <td>62</td>\n",
       "    </tr>\n",
       "  </tbody>\n",
       "</table>\n",
       "<p>1000 rows × 3 columns</p>\n",
       "</div>"
      ],
      "text/plain": [
       "     math_score  reading_score  writing_score\n",
       "0            67             67             63\n",
       "1            40             59             55\n",
       "2            59             60             50\n",
       "3            77             78             68\n",
       "4            78             73             68\n",
       "..          ...            ...            ...\n",
       "995          73             70             65\n",
       "996          85             91             92\n",
       "997          32             35             41\n",
       "998          73             74             82\n",
       "999          65             60             62\n",
       "\n",
       "[1000 rows x 3 columns]"
      ]
     },
     "execution_count": 16,
     "metadata": {},
     "output_type": "execute_result"
    }
   ],
   "source": [
    "col = data.loc[: , \"math_score\":\"writing_score\"]\n",
    "col"
   ]
  },
  {
   "cell_type": "code",
   "execution_count": 17,
   "metadata": {
    "colab": {
     "base_uri": "https://localhost:8080/",
     "height": 423
    },
    "id": "W4lj5sZPgrXq",
    "outputId": "b43091b7-8243-4c3f-c1bb-252fa552c216"
   },
   "outputs": [
    {
     "data": {
      "text/html": [
       "<div>\n",
       "<style scoped>\n",
       "    .dataframe tbody tr th:only-of-type {\n",
       "        vertical-align: middle;\n",
       "    }\n",
       "\n",
       "    .dataframe tbody tr th {\n",
       "        vertical-align: top;\n",
       "    }\n",
       "\n",
       "    .dataframe thead th {\n",
       "        text-align: right;\n",
       "    }\n",
       "</style>\n",
       "<table border=\"1\" class=\"dataframe\">\n",
       "  <thead>\n",
       "    <tr style=\"text-align: right;\">\n",
       "      <th></th>\n",
       "      <th>gender</th>\n",
       "      <th>race_ethnicity</th>\n",
       "      <th>parent_education</th>\n",
       "      <th>lunch</th>\n",
       "      <th>test_preparation_course</th>\n",
       "      <th>math_score</th>\n",
       "      <th>reading_score</th>\n",
       "      <th>writing_score</th>\n",
       "      <th>overall_success</th>\n",
       "    </tr>\n",
       "  </thead>\n",
       "  <tbody>\n",
       "    <tr>\n",
       "      <th>0</th>\n",
       "      <td>male</td>\n",
       "      <td>group A</td>\n",
       "      <td>high school</td>\n",
       "      <td>standard</td>\n",
       "      <td>completed</td>\n",
       "      <td>67</td>\n",
       "      <td>67</td>\n",
       "      <td>63</td>\n",
       "      <td>65.666667</td>\n",
       "    </tr>\n",
       "    <tr>\n",
       "      <th>1</th>\n",
       "      <td>female</td>\n",
       "      <td>group D</td>\n",
       "      <td>some high school</td>\n",
       "      <td>free/reduced</td>\n",
       "      <td>none</td>\n",
       "      <td>40</td>\n",
       "      <td>59</td>\n",
       "      <td>55</td>\n",
       "      <td>51.333333</td>\n",
       "    </tr>\n",
       "    <tr>\n",
       "      <th>2</th>\n",
       "      <td>male</td>\n",
       "      <td>group E</td>\n",
       "      <td>some college</td>\n",
       "      <td>free/reduced</td>\n",
       "      <td>none</td>\n",
       "      <td>59</td>\n",
       "      <td>60</td>\n",
       "      <td>50</td>\n",
       "      <td>56.333333</td>\n",
       "    </tr>\n",
       "    <tr>\n",
       "      <th>3</th>\n",
       "      <td>male</td>\n",
       "      <td>group B</td>\n",
       "      <td>high school</td>\n",
       "      <td>standard</td>\n",
       "      <td>none</td>\n",
       "      <td>77</td>\n",
       "      <td>78</td>\n",
       "      <td>68</td>\n",
       "      <td>74.333333</td>\n",
       "    </tr>\n",
       "    <tr>\n",
       "      <th>4</th>\n",
       "      <td>male</td>\n",
       "      <td>group E</td>\n",
       "      <td>associate's degree</td>\n",
       "      <td>standard</td>\n",
       "      <td>completed</td>\n",
       "      <td>78</td>\n",
       "      <td>73</td>\n",
       "      <td>68</td>\n",
       "      <td>73.000000</td>\n",
       "    </tr>\n",
       "    <tr>\n",
       "      <th>...</th>\n",
       "      <td>...</td>\n",
       "      <td>...</td>\n",
       "      <td>...</td>\n",
       "      <td>...</td>\n",
       "      <td>...</td>\n",
       "      <td>...</td>\n",
       "      <td>...</td>\n",
       "      <td>...</td>\n",
       "      <td>...</td>\n",
       "    </tr>\n",
       "    <tr>\n",
       "      <th>995</th>\n",
       "      <td>male</td>\n",
       "      <td>group C</td>\n",
       "      <td>high school</td>\n",
       "      <td>standard</td>\n",
       "      <td>none</td>\n",
       "      <td>73</td>\n",
       "      <td>70</td>\n",
       "      <td>65</td>\n",
       "      <td>69.333333</td>\n",
       "    </tr>\n",
       "    <tr>\n",
       "      <th>996</th>\n",
       "      <td>male</td>\n",
       "      <td>group D</td>\n",
       "      <td>associate's degree</td>\n",
       "      <td>free/reduced</td>\n",
       "      <td>completed</td>\n",
       "      <td>85</td>\n",
       "      <td>91</td>\n",
       "      <td>92</td>\n",
       "      <td>89.333333</td>\n",
       "    </tr>\n",
       "    <tr>\n",
       "      <th>997</th>\n",
       "      <td>female</td>\n",
       "      <td>group C</td>\n",
       "      <td>some high school</td>\n",
       "      <td>free/reduced</td>\n",
       "      <td>none</td>\n",
       "      <td>32</td>\n",
       "      <td>35</td>\n",
       "      <td>41</td>\n",
       "      <td>36.000000</td>\n",
       "    </tr>\n",
       "    <tr>\n",
       "      <th>998</th>\n",
       "      <td>female</td>\n",
       "      <td>group C</td>\n",
       "      <td>some college</td>\n",
       "      <td>standard</td>\n",
       "      <td>none</td>\n",
       "      <td>73</td>\n",
       "      <td>74</td>\n",
       "      <td>82</td>\n",
       "      <td>76.333333</td>\n",
       "    </tr>\n",
       "    <tr>\n",
       "      <th>999</th>\n",
       "      <td>male</td>\n",
       "      <td>group A</td>\n",
       "      <td>some college</td>\n",
       "      <td>standard</td>\n",
       "      <td>completed</td>\n",
       "      <td>65</td>\n",
       "      <td>60</td>\n",
       "      <td>62</td>\n",
       "      <td>62.333333</td>\n",
       "    </tr>\n",
       "  </tbody>\n",
       "</table>\n",
       "<p>1000 rows × 9 columns</p>\n",
       "</div>"
      ],
      "text/plain": [
       "     gender race_ethnicity    parent_education         lunch  \\\n",
       "0      male        group A         high school      standard   \n",
       "1    female        group D    some high school  free/reduced   \n",
       "2      male        group E        some college  free/reduced   \n",
       "3      male        group B         high school      standard   \n",
       "4      male        group E  associate's degree      standard   \n",
       "..      ...            ...                 ...           ...   \n",
       "995    male        group C         high school      standard   \n",
       "996    male        group D  associate's degree  free/reduced   \n",
       "997  female        group C    some high school  free/reduced   \n",
       "998  female        group C        some college      standard   \n",
       "999    male        group A        some college      standard   \n",
       "\n",
       "    test_preparation_course  math_score  reading_score  writing_score  \\\n",
       "0                 completed          67             67             63   \n",
       "1                      none          40             59             55   \n",
       "2                      none          59             60             50   \n",
       "3                      none          77             78             68   \n",
       "4                 completed          78             73             68   \n",
       "..                      ...         ...            ...            ...   \n",
       "995                    none          73             70             65   \n",
       "996               completed          85             91             92   \n",
       "997                    none          32             35             41   \n",
       "998                    none          73             74             82   \n",
       "999               completed          65             60             62   \n",
       "\n",
       "     overall_success  \n",
       "0          65.666667  \n",
       "1          51.333333  \n",
       "2          56.333333  \n",
       "3          74.333333  \n",
       "4          73.000000  \n",
       "..               ...  \n",
       "995        69.333333  \n",
       "996        89.333333  \n",
       "997        36.000000  \n",
       "998        76.333333  \n",
       "999        62.333333  \n",
       "\n",
       "[1000 rows x 9 columns]"
      ]
     },
     "execution_count": 17,
     "metadata": {},
     "output_type": "execute_result"
    }
   ],
   "source": [
    "# adding new column named \"overall success\" which shows the average of three scores\n",
    "data['overall_success'] = col.mean(axis=1)\n",
    "data"
   ]
  },
  {
   "cell_type": "code",
   "execution_count": 18,
   "metadata": {
    "id": "OKo-Y1DcgrXq"
   },
   "outputs": [],
   "source": [
    "from sklearn import preprocessing\n",
    "lb=preprocessing.LabelEncoder()\n",
    "\n",
    "data[\"gender_1\"]=lb.fit_transform(data[\"gender\"])\n",
    "data[\"race_ethnicity_1\"]=lb.fit_transform(data[\"race_ethnicity\"])\n",
    "data[\"test_preparation_course_1\"]=lb.fit_transform(data[\"test_preparation_course\"])\n",
    "data[\"lunch_1\"]=lb.fit_transform(data[\"lunch\"])\n",
    "data[\"parent_education_1\"]=lb.fit_transform(data[\"parent_education\"])"
   ]
  },
  {
   "cell_type": "code",
   "execution_count": 19,
   "metadata": {
    "colab": {
     "base_uri": "https://localhost:8080/",
     "height": 270
    },
    "id": "ukzHLxYwgrXq",
    "outputId": "f57aecdf-120d-4d8b-92aa-d5a791f07d0e"
   },
   "outputs": [
    {
     "data": {
      "text/html": [
       "<div>\n",
       "<style scoped>\n",
       "    .dataframe tbody tr th:only-of-type {\n",
       "        vertical-align: middle;\n",
       "    }\n",
       "\n",
       "    .dataframe tbody tr th {\n",
       "        vertical-align: top;\n",
       "    }\n",
       "\n",
       "    .dataframe thead th {\n",
       "        text-align: right;\n",
       "    }\n",
       "</style>\n",
       "<table border=\"1\" class=\"dataframe\">\n",
       "  <thead>\n",
       "    <tr style=\"text-align: right;\">\n",
       "      <th></th>\n",
       "      <th>gender</th>\n",
       "      <th>race_ethnicity</th>\n",
       "      <th>parent_education</th>\n",
       "      <th>lunch</th>\n",
       "      <th>test_preparation_course</th>\n",
       "      <th>math_score</th>\n",
       "      <th>reading_score</th>\n",
       "      <th>writing_score</th>\n",
       "      <th>overall_success</th>\n",
       "      <th>gender_1</th>\n",
       "      <th>race_ethnicity_1</th>\n",
       "      <th>test_preparation_course_1</th>\n",
       "      <th>lunch_1</th>\n",
       "      <th>parent_education_1</th>\n",
       "    </tr>\n",
       "  </thead>\n",
       "  <tbody>\n",
       "    <tr>\n",
       "      <th>0</th>\n",
       "      <td>male</td>\n",
       "      <td>group A</td>\n",
       "      <td>high school</td>\n",
       "      <td>standard</td>\n",
       "      <td>completed</td>\n",
       "      <td>67</td>\n",
       "      <td>67</td>\n",
       "      <td>63</td>\n",
       "      <td>65.666667</td>\n",
       "      <td>1</td>\n",
       "      <td>0</td>\n",
       "      <td>0</td>\n",
       "      <td>1</td>\n",
       "      <td>2</td>\n",
       "    </tr>\n",
       "    <tr>\n",
       "      <th>1</th>\n",
       "      <td>female</td>\n",
       "      <td>group D</td>\n",
       "      <td>some high school</td>\n",
       "      <td>free/reduced</td>\n",
       "      <td>none</td>\n",
       "      <td>40</td>\n",
       "      <td>59</td>\n",
       "      <td>55</td>\n",
       "      <td>51.333333</td>\n",
       "      <td>0</td>\n",
       "      <td>3</td>\n",
       "      <td>1</td>\n",
       "      <td>0</td>\n",
       "      <td>5</td>\n",
       "    </tr>\n",
       "    <tr>\n",
       "      <th>2</th>\n",
       "      <td>male</td>\n",
       "      <td>group E</td>\n",
       "      <td>some college</td>\n",
       "      <td>free/reduced</td>\n",
       "      <td>none</td>\n",
       "      <td>59</td>\n",
       "      <td>60</td>\n",
       "      <td>50</td>\n",
       "      <td>56.333333</td>\n",
       "      <td>1</td>\n",
       "      <td>4</td>\n",
       "      <td>1</td>\n",
       "      <td>0</td>\n",
       "      <td>4</td>\n",
       "    </tr>\n",
       "    <tr>\n",
       "      <th>3</th>\n",
       "      <td>male</td>\n",
       "      <td>group B</td>\n",
       "      <td>high school</td>\n",
       "      <td>standard</td>\n",
       "      <td>none</td>\n",
       "      <td>77</td>\n",
       "      <td>78</td>\n",
       "      <td>68</td>\n",
       "      <td>74.333333</td>\n",
       "      <td>1</td>\n",
       "      <td>1</td>\n",
       "      <td>1</td>\n",
       "      <td>1</td>\n",
       "      <td>2</td>\n",
       "    </tr>\n",
       "    <tr>\n",
       "      <th>4</th>\n",
       "      <td>male</td>\n",
       "      <td>group E</td>\n",
       "      <td>associate's degree</td>\n",
       "      <td>standard</td>\n",
       "      <td>completed</td>\n",
       "      <td>78</td>\n",
       "      <td>73</td>\n",
       "      <td>68</td>\n",
       "      <td>73.000000</td>\n",
       "      <td>1</td>\n",
       "      <td>4</td>\n",
       "      <td>0</td>\n",
       "      <td>1</td>\n",
       "      <td>0</td>\n",
       "    </tr>\n",
       "  </tbody>\n",
       "</table>\n",
       "</div>"
      ],
      "text/plain": [
       "   gender race_ethnicity    parent_education         lunch  \\\n",
       "0    male        group A         high school      standard   \n",
       "1  female        group D    some high school  free/reduced   \n",
       "2    male        group E        some college  free/reduced   \n",
       "3    male        group B         high school      standard   \n",
       "4    male        group E  associate's degree      standard   \n",
       "\n",
       "  test_preparation_course  math_score  reading_score  writing_score  \\\n",
       "0               completed          67             67             63   \n",
       "1                    none          40             59             55   \n",
       "2                    none          59             60             50   \n",
       "3                    none          77             78             68   \n",
       "4               completed          78             73             68   \n",
       "\n",
       "   overall_success  gender_1  race_ethnicity_1  test_preparation_course_1  \\\n",
       "0        65.666667         1                 0                          0   \n",
       "1        51.333333         0                 3                          1   \n",
       "2        56.333333         1                 4                          1   \n",
       "3        74.333333         1                 1                          1   \n",
       "4        73.000000         1                 4                          0   \n",
       "\n",
       "   lunch_1  parent_education_1  \n",
       "0        1                   2  \n",
       "1        0                   5  \n",
       "2        0                   4  \n",
       "3        1                   2  \n",
       "4        1                   0  "
      ]
     },
     "execution_count": 19,
     "metadata": {},
     "output_type": "execute_result"
    }
   ],
   "source": [
    "data.head()"
   ]
  },
  {
   "cell_type": "markdown",
   "metadata": {
    "id": "qEHyf2uUgrXq"
   },
   "source": [
    "# Dropping columns which are irrelevant"
   ]
  },
  {
   "cell_type": "code",
   "execution_count": 20,
   "metadata": {
    "colab": {
     "base_uri": "https://localhost:8080/",
     "height": 206
    },
    "id": "DGBde_-KgrXq",
    "outputId": "576e3048-2203-4615-bc2b-e1ebb953483a"
   },
   "outputs": [
    {
     "data": {
      "text/html": [
       "<div>\n",
       "<style scoped>\n",
       "    .dataframe tbody tr th:only-of-type {\n",
       "        vertical-align: middle;\n",
       "    }\n",
       "\n",
       "    .dataframe tbody tr th {\n",
       "        vertical-align: top;\n",
       "    }\n",
       "\n",
       "    .dataframe thead th {\n",
       "        text-align: right;\n",
       "    }\n",
       "</style>\n",
       "<table border=\"1\" class=\"dataframe\">\n",
       "  <thead>\n",
       "    <tr style=\"text-align: right;\">\n",
       "      <th></th>\n",
       "      <th>math_score</th>\n",
       "      <th>reading_score</th>\n",
       "      <th>writing_score</th>\n",
       "      <th>overall_success</th>\n",
       "      <th>gender_1</th>\n",
       "      <th>race_ethnicity_1</th>\n",
       "      <th>test_preparation_course_1</th>\n",
       "      <th>lunch_1</th>\n",
       "      <th>parent_education_1</th>\n",
       "    </tr>\n",
       "  </thead>\n",
       "  <tbody>\n",
       "    <tr>\n",
       "      <th>0</th>\n",
       "      <td>67</td>\n",
       "      <td>67</td>\n",
       "      <td>63</td>\n",
       "      <td>65.666667</td>\n",
       "      <td>1</td>\n",
       "      <td>0</td>\n",
       "      <td>0</td>\n",
       "      <td>1</td>\n",
       "      <td>2</td>\n",
       "    </tr>\n",
       "    <tr>\n",
       "      <th>1</th>\n",
       "      <td>40</td>\n",
       "      <td>59</td>\n",
       "      <td>55</td>\n",
       "      <td>51.333333</td>\n",
       "      <td>0</td>\n",
       "      <td>3</td>\n",
       "      <td>1</td>\n",
       "      <td>0</td>\n",
       "      <td>5</td>\n",
       "    </tr>\n",
       "    <tr>\n",
       "      <th>2</th>\n",
       "      <td>59</td>\n",
       "      <td>60</td>\n",
       "      <td>50</td>\n",
       "      <td>56.333333</td>\n",
       "      <td>1</td>\n",
       "      <td>4</td>\n",
       "      <td>1</td>\n",
       "      <td>0</td>\n",
       "      <td>4</td>\n",
       "    </tr>\n",
       "    <tr>\n",
       "      <th>3</th>\n",
       "      <td>77</td>\n",
       "      <td>78</td>\n",
       "      <td>68</td>\n",
       "      <td>74.333333</td>\n",
       "      <td>1</td>\n",
       "      <td>1</td>\n",
       "      <td>1</td>\n",
       "      <td>1</td>\n",
       "      <td>2</td>\n",
       "    </tr>\n",
       "    <tr>\n",
       "      <th>4</th>\n",
       "      <td>78</td>\n",
       "      <td>73</td>\n",
       "      <td>68</td>\n",
       "      <td>73.000000</td>\n",
       "      <td>1</td>\n",
       "      <td>4</td>\n",
       "      <td>0</td>\n",
       "      <td>1</td>\n",
       "      <td>0</td>\n",
       "    </tr>\n",
       "  </tbody>\n",
       "</table>\n",
       "</div>"
      ],
      "text/plain": [
       "   math_score  reading_score  writing_score  overall_success  gender_1  \\\n",
       "0          67             67             63        65.666667         1   \n",
       "1          40             59             55        51.333333         0   \n",
       "2          59             60             50        56.333333         1   \n",
       "3          77             78             68        74.333333         1   \n",
       "4          78             73             68        73.000000         1   \n",
       "\n",
       "   race_ethnicity_1  test_preparation_course_1  lunch_1  parent_education_1  \n",
       "0                 0                          0        1                   2  \n",
       "1                 3                          1        0                   5  \n",
       "2                 4                          1        0                   4  \n",
       "3                 1                          1        1                   2  \n",
       "4                 4                          0        1                   0  "
      ]
     },
     "execution_count": 20,
     "metadata": {},
     "output_type": "execute_result"
    }
   ],
   "source": [
    "df=data.drop([\"gender\",\"race_ethnicity\",\"test_preparation_course\",\"lunch\",\"parent_education\"],axis=1)\n",
    "df.head()"
   ]
  },
  {
   "cell_type": "code",
   "execution_count": 21,
   "metadata": {
    "colab": {
     "base_uri": "https://localhost:8080/",
     "height": 622
    },
    "id": "gjkzcfW_ipBE",
    "outputId": "8965cb4f-1672-4061-9c42-524c4be435d6"
   },
   "outputs": [
    {
     "data": {
      "text/plain": [
       "<matplotlib.axes._subplots.AxesSubplot at 0x285e9c565e0>"
      ]
     },
     "execution_count": 21,
     "metadata": {},
     "output_type": "execute_result"
    },
    {
     "data": {
      "image/png": "[encoded data removed]",
      "text/plain": [
       "<Figure size 432x288 with 2 Axes>"
      ]
     },
     "metadata": {
      "needs_background": "light"
     },
     "output_type": "display_data"
    }
   ],
   "source": [
    "corr = df.corr() #showing correlation using Heatmap\n",
    "sns.heatmap(data=corr)"
   ]
  },
  {
   "cell_type": "markdown",
   "metadata": {},
   "source": [
    "based on the heatmap above. we should use 'reading_score', 'math_score', 'writing_score', 'gender_num' and 'test_preparation_course_num' to build our model"
   ]
  },
  {
   "cell_type": "markdown",
   "metadata": {
    "id": "0wVBN_YxgrXr"
   },
   "source": [
    "# Determining dependent and independent variables"
   ]
  },
  {
   "cell_type": "code",
   "execution_count": 22,
   "metadata": {
    "id": "UKWxTsMjgrXr"
   },
   "outputs": [],
   "source": [
    "y = df[\"overall_success\"]\n",
    "X = df.drop(['overall_success'], axis=1)"
   ]
  },
  {
   "cell_type": "code",
   "execution_count": 23,
   "metadata": {
    "colab": {
     "base_uri": "https://localhost:8080/"
    },
    "id": "bejzAhWFgrXr",
    "outputId": "b7f21db7-ff05-432f-a2ac-8a2e5ddbed7e"
   },
   "outputs": [
    {
     "data": {
      "text/plain": [
       "0      65.666667\n",
       "1      51.333333\n",
       "2      56.333333\n",
       "3      74.333333\n",
       "4      73.000000\n",
       "         ...    \n",
       "995    69.333333\n",
       "996    89.333333\n",
       "997    36.000000\n",
       "998    76.333333\n",
       "999    62.333333\n",
       "Name: overall_success, Length: 1000, dtype: float64"
      ]
     },
     "execution_count": 23,
     "metadata": {},
     "output_type": "execute_result"
    }
   ],
   "source": [
    "y"
   ]
  },
  {
   "cell_type": "code",
   "execution_count": 24,
   "metadata": {
    "colab": {
     "base_uri": "https://localhost:8080/",
     "height": 206
    },
    "id": "UHi1xcoMgrXr",
    "outputId": "4da3fe4c-0975-4d46-aa7d-8b2282dd3717"
   },
   "outputs": [
    {
     "data": {
      "text/html": [
       "<div>\n",
       "<style scoped>\n",
       "    .dataframe tbody tr th:only-of-type {\n",
       "        vertical-align: middle;\n",
       "    }\n",
       "\n",
       "    .dataframe tbody tr th {\n",
       "        vertical-align: top;\n",
       "    }\n",
       "\n",
       "    .dataframe thead th {\n",
       "        text-align: right;\n",
       "    }\n",
       "</style>\n",
       "<table border=\"1\" class=\"dataframe\">\n",
       "  <thead>\n",
       "    <tr style=\"text-align: right;\">\n",
       "      <th></th>\n",
       "      <th>math_score</th>\n",
       "      <th>reading_score</th>\n",
       "      <th>writing_score</th>\n",
       "      <th>gender_1</th>\n",
       "      <th>test_preparation_course_1</th>\n",
       "    </tr>\n",
       "  </thead>\n",
       "  <tbody>\n",
       "    <tr>\n",
       "      <th>0</th>\n",
       "      <td>67</td>\n",
       "      <td>67</td>\n",
       "      <td>63</td>\n",
       "      <td>1</td>\n",
       "      <td>0</td>\n",
       "    </tr>\n",
       "    <tr>\n",
       "      <th>1</th>\n",
       "      <td>40</td>\n",
       "      <td>59</td>\n",
       "      <td>55</td>\n",
       "      <td>0</td>\n",
       "      <td>1</td>\n",
       "    </tr>\n",
       "    <tr>\n",
       "      <th>2</th>\n",
       "      <td>59</td>\n",
       "      <td>60</td>\n",
       "      <td>50</td>\n",
       "      <td>1</td>\n",
       "      <td>1</td>\n",
       "    </tr>\n",
       "    <tr>\n",
       "      <th>3</th>\n",
       "      <td>77</td>\n",
       "      <td>78</td>\n",
       "      <td>68</td>\n",
       "      <td>1</td>\n",
       "      <td>1</td>\n",
       "    </tr>\n",
       "    <tr>\n",
       "      <th>4</th>\n",
       "      <td>78</td>\n",
       "      <td>73</td>\n",
       "      <td>68</td>\n",
       "      <td>1</td>\n",
       "      <td>0</td>\n",
       "    </tr>\n",
       "  </tbody>\n",
       "</table>\n",
       "</div>"
      ],
      "text/plain": [
       "   math_score  reading_score  writing_score  gender_1  \\\n",
       "0          67             67             63         1   \n",
       "1          40             59             55         0   \n",
       "2          59             60             50         1   \n",
       "3          77             78             68         1   \n",
       "4          78             73             68         1   \n",
       "\n",
       "   test_preparation_course_1  \n",
       "0                          0  \n",
       "1                          1  \n",
       "2                          1  \n",
       "3                          1  \n",
       "4                          0  "
      ]
     },
     "execution_count": 24,
     "metadata": {},
     "output_type": "execute_result"
    }
   ],
   "source": [
    "X = df.drop(['race_ethnicity_1', 'lunch_1', 'parent_education_1', 'overall_success'], axis=1)\n",
    "X.head()"
   ]
  },
  {
   "cell_type": "markdown",
   "metadata": {
    "id": "-IFr4ooigrXr"
   },
   "source": [
    "# Splitting the Train and Test dataset"
   ]
  },
  {
   "cell_type": "code",
   "execution_count": 25,
   "metadata": {
    "id": "LSxYEe46grXr"
   },
   "outputs": [],
   "source": [
    "from sklearn.model_selection import train_test_split\n",
    "X_train, X_test, y_train, y_test = train_test_split(X, y,\n",
    "                                                    test_size=0.20,\n",
    "                                                    random_state=42)"
   ]
  },
  {
   "cell_type": "code",
   "execution_count": 26,
   "metadata": {
    "id": "Vdjd46QPgrXr"
   },
   "outputs": [],
   "source": [
    "from sklearn.preprocessing import StandardScaler\n",
    "scaler = StandardScaler()\n",
    "scaler.fit(X_train)\n",
    "X_train_scaled = scaler.transform(X_train)\n",
    "X_test_scaled = scaler.transform(X_test)"
   ]
  },
  {
   "cell_type": "markdown",
   "metadata": {
    "id": "x_iqouMxgrXu"
   },
   "source": [
    "# Applying ML Algorithm 1 : DecisionTreeRegressor"
   ]
  },
  {
   "cell_type": "code",
   "execution_count": 27,
   "metadata": {
    "colab": {
     "base_uri": "https://localhost:8080/",
     "height": 74
    },
    "id": "cRGJDwtugrXu",
    "outputId": "a10b2bb0-f933-464b-8c93-dae8e2f5f72a"
   },
   "outputs": [
    {
     "data": {
      "text/html": [
       "<style>#sk-container-id-1 {color: black;background-color: white;}#sk-container-id-1 pre{padding: 0;}#sk-container-id-1 div.sk-toggleable {background-color: white;}#sk-container-id-1 label.sk-toggleable__label {cursor: pointer;display: block;width: 100%;margin-bottom: 0;padding: 0.3em;box-sizing: border-box;text-align: center;}#sk-container-id-1 label.sk-toggleable__label-arrow:before {content: \"▸\";float: left;margin-right: 0.25em;color: #696969;}#sk-container-id-1 label.sk-toggleable__label-arrow:hover:before {color: black;}#sk-container-id-1 div.sk-estimator:hover label.sk-toggleable__label-arrow:before {color: black;}#sk-container-id-1 div.sk-toggleable__content {max-height: 0;max-width: 0;overflow: hidden;text-align: left;background-color: #f0f8ff;}#sk-container-id-1 div.sk-toggleable__content pre {margin: 0.2em;color: black;border-radius: 0.25em;background-color: #f0f8ff;}#sk-container-id-1 input.sk-toggleable__control:checked~div.sk-toggleable__content {max-height: 200px;max-width: 100%;overflow: auto;}#sk-container-id-1 input.sk-toggleable__control:checked~label.sk-toggleable__label-arrow:before {content: \"▾\";}#sk-container-id-1 div.sk-estimator input.sk-toggleable__control:checked~label.sk-toggleable__label {background-color: #d4ebff;}#sk-container-id-1 div.sk-label input.sk-toggleable__control:checked~label.sk-toggleable__label {background-color: #d4ebff;}#sk-container-id-1 input.sk-hidden--visually {border: 0;clip: rect(1px 1px 1px 1px);clip: rect(1px, 1px, 1px, 1px);height: 1px;margin: -1px;overflow: hidden;padding: 0;position: absolute;width: 1px;}#sk-container-id-1 div.sk-estimator {font-family: monospace;background-color: #f0f8ff;border: 1px dotted black;border-radius: 0.25em;box-sizing: border-box;margin-bottom: 0.5em;}#sk-container-id-1 div.sk-estimator:hover {background-color: #d4ebff;}#sk-container-id-1 div.sk-parallel-item::after {content: \"\";width: 100%;border-bottom: 1px solid gray;flex-grow: 1;}#sk-container-id-1 div.sk-label:hover label.sk-toggleable__label {background-color: #d4ebff;}#sk-container-id-1 div.sk-serial::before {content: \"\";position: absolute;border-left: 1px solid gray;box-sizing: border-box;top: 0;bottom: 0;left: 50%;z-index: 0;}#sk-container-id-1 div.sk-serial {display: flex;flex-direction: column;align-items: center;background-color: white;padding-right: 0.2em;padding-left: 0.2em;position: relative;}#sk-container-id-1 div.sk-item {position: relative;z-index: 1;}#sk-container-id-1 div.sk-parallel {display: flex;align-items: stretch;justify-content: center;background-color: white;position: relative;}#sk-container-id-1 div.sk-item::before, #sk-container-id-1 div.sk-parallel-item::before {content: \"\";position: absolute;border-left: 1px solid gray;box-sizing: border-box;top: 0;bottom: 0;left: 50%;z-index: -1;}#sk-container-id-1 div.sk-parallel-item {display: flex;flex-direction: column;z-index: 1;position: relative;background-color: white;}#sk-container-id-1 div.sk-parallel-item:first-child::after {align-self: flex-end;width: 50%;}#sk-container-id-1 div.sk-parallel-item:last-child::after {align-self: flex-start;width: 50%;}#sk-container-id-1 div.sk-parallel-item:only-child::after {width: 0;}#sk-container-id-1 div.sk-dashed-wrapped {border: 1px dashed gray;margin: 0 0.4em 0.5em 0.4em;box-sizing: border-box;padding-bottom: 0.4em;background-color: white;}#sk-container-id-1 div.sk-label label {font-family: monospace;font-weight: bold;display: inline-block;line-height: 1.2em;}#sk-container-id-1 div.sk-label-container {text-align: center;}#sk-container-id-1 div.sk-container {/* jupyter's `normalize.less` sets `[hidden] { display: none; }` but bootstrap.min.css set `[hidden] { display: none !important; }` so we also need the `!important` here to be able to override the default hidden behavior on the sphinx rendered scikit-learn.org. See: https://github.com/scikit-learn/scikit-learn/issues/21755 */display: inline-block !important;position: relative;}#sk-container-id-1 div.sk-text-repr-fallback {display: none;}</style><div id=\"sk-container-id-1\" class=\"sk-top-container\"><div class=\"sk-text-repr-fallback\"><pre>DecisionTreeRegressor(max_depth=5)</pre><b>In a Jupyter environment, please rerun this cell to show the HTML representation or trust the notebook. <br />On GitHub, the HTML representation is unable to render, please try loading this page with nbviewer.org.</b></div><div class=\"sk-container\" hidden><div class=\"sk-item\"><div class=\"sk-estimator sk-toggleable\"><input class=\"sk-toggleable__control sk-hidden--visually\" id=\"sk-estimator-id-1\" type=\"checkbox\" checked><label for=\"sk-estimator-id-1\" class=\"sk-toggleable__label sk-toggleable__label-arrow\">DecisionTreeRegressor</label><div class=\"sk-toggleable__content\"><pre>DecisionTreeRegressor(max_depth=5)</pre></div></div></div></div></div>"
      ],
      "text/plain": [
       "DecisionTreeRegressor(max_depth=5)"
      ]
     },
     "execution_count": 27,
     "metadata": {},
     "output_type": "execute_result"
    }
   ],
   "source": [
    "from sklearn.tree import DecisionTreeRegressor\n",
    "dec_reg=DecisionTreeRegressor(max_depth=5)\n",
    "dec_reg\n",
    "dec_reg.fit(X_train_scaled,y_train)"
   ]
  },
  {
   "cell_type": "code",
   "execution_count": 28,
   "metadata": {
    "colab": {
     "base_uri": "https://localhost:8080/",
     "height": 423
    },
    "id": "er7fd2XggrXu",
    "outputId": "014e17a4-54fb-4bb1-df5a-28a7b8c00923"
   },
   "outputs": [
    {
     "data": {
      "text/html": [
       "<div>\n",
       "<style scoped>\n",
       "    .dataframe tbody tr th:only-of-type {\n",
       "        vertical-align: middle;\n",
       "    }\n",
       "\n",
       "    .dataframe tbody tr th {\n",
       "        vertical-align: top;\n",
       "    }\n",
       "\n",
       "    .dataframe thead th {\n",
       "        text-align: right;\n",
       "    }\n",
       "</style>\n",
       "<table border=\"1\" class=\"dataframe\">\n",
       "  <thead>\n",
       "    <tr style=\"text-align: right;\">\n",
       "      <th></th>\n",
       "      <th>Actual</th>\n",
       "      <th>Predicted</th>\n",
       "    </tr>\n",
       "  </thead>\n",
       "  <tbody>\n",
       "    <tr>\n",
       "      <th>521</th>\n",
       "      <td>76.666667</td>\n",
       "      <td>77.714286</td>\n",
       "    </tr>\n",
       "    <tr>\n",
       "      <th>737</th>\n",
       "      <td>82.000000</td>\n",
       "      <td>83.615385</td>\n",
       "    </tr>\n",
       "    <tr>\n",
       "      <th>740</th>\n",
       "      <td>52.000000</td>\n",
       "      <td>54.523810</td>\n",
       "    </tr>\n",
       "    <tr>\n",
       "      <th>660</th>\n",
       "      <td>92.000000</td>\n",
       "      <td>87.259887</td>\n",
       "    </tr>\n",
       "    <tr>\n",
       "      <th>411</th>\n",
       "      <td>69.666667</td>\n",
       "      <td>70.519481</td>\n",
       "    </tr>\n",
       "    <tr>\n",
       "      <th>...</th>\n",
       "      <td>...</td>\n",
       "      <td>...</td>\n",
       "    </tr>\n",
       "    <tr>\n",
       "      <th>408</th>\n",
       "      <td>48.000000</td>\n",
       "      <td>50.736111</td>\n",
       "    </tr>\n",
       "    <tr>\n",
       "      <th>332</th>\n",
       "      <td>51.000000</td>\n",
       "      <td>50.736111</td>\n",
       "    </tr>\n",
       "    <tr>\n",
       "      <th>208</th>\n",
       "      <td>82.333333</td>\n",
       "      <td>82.333333</td>\n",
       "    </tr>\n",
       "    <tr>\n",
       "      <th>613</th>\n",
       "      <td>81.000000</td>\n",
       "      <td>81.240741</td>\n",
       "    </tr>\n",
       "    <tr>\n",
       "      <th>78</th>\n",
       "      <td>75.666667</td>\n",
       "      <td>77.733333</td>\n",
       "    </tr>\n",
       "  </tbody>\n",
       "</table>\n",
       "<p>200 rows × 2 columns</p>\n",
       "</div>"
      ],
      "text/plain": [
       "        Actual  Predicted\n",
       "521  76.666667  77.714286\n",
       "737  82.000000  83.615385\n",
       "740  52.000000  54.523810\n",
       "660  92.000000  87.259887\n",
       "411  69.666667  70.519481\n",
       "..         ...        ...\n",
       "408  48.000000  50.736111\n",
       "332  51.000000  50.736111\n",
       "208  82.333333  82.333333\n",
       "613  81.000000  81.240741\n",
       "78   75.666667  77.733333\n",
       "\n",
       "[200 rows x 2 columns]"
      ]
     },
     "execution_count": 28,
     "metadata": {},
     "output_type": "execute_result"
    }
   ],
   "source": [
    "y_pred_dec_reg=dec_reg.predict(X_test_scaled)\n",
    "df = pd.DataFrame({'Actual': y_test, 'Predicted': y_pred_dec_reg})\n",
    "df"
   ]
  },
  {
   "cell_type": "code",
   "execution_count": 29,
   "metadata": {
    "colab": {
     "base_uri": "https://localhost:8080/",
     "height": 449
    },
    "id": "x-_vXJH3grXv",
    "outputId": "378db93e-71de-4425-a306-175afc9bc526"
   },
   "outputs": [
    {
     "data": {
      "image/png": "[encoded data removed]",
      "text/plain": [
       "<Figure size 432x288 with 1 Axes>"
      ]
     },
     "metadata": {
      "needs_background": "light"
     },
     "output_type": "display_data"
    }
   ],
   "source": [
    "plt.scatter(y_test,y_pred_dec_reg)\n",
    "plt.xlabel('Actual')\n",
    "plt.ylabel('Predicted')\n",
    "plt.show()"
   ]
  },
  {
   "cell_type": "code",
   "execution_count": 30,
   "metadata": {
    "colab": {
     "base_uri": "https://localhost:8080/"
    },
    "id": "1q3MplJHgrXv",
    "outputId": "741d104c-0e34-4ac0-e28c-79e215cffef2"
   },
   "outputs": [
    {
     "name": "stdout",
     "output_type": "stream",
     "text": [
      "Mean Absolute Error: 2.1827802971422186\n",
      "Mean Squared Error: 7.088901537174849\n",
      "Root Mean Squared Error: 2.662499114962266\n",
      "R2 SCORE: 0.9680021797425077\n"
     ]
    }
   ],
   "source": [
    "from sklearn import metrics\n",
    "from sklearn.metrics import r2_score, mean_absolute_error, mean_squared_error\n",
    "\n",
    "print('Mean Absolute Error:', metrics.mean_absolute_error(y_test, y_pred_dec_reg))\n",
    "print('Mean Squared Error:', metrics.mean_squared_error(y_test, y_pred_dec_reg))\n",
    "print('Root Mean Squared Error:', np.sqrt(metrics.mean_squared_error(y_test, y_pred_dec_reg)))\n",
    "r2_score = r2_score(y_test, y_pred_dec_reg, multioutput='uniform_average')\n",
    "print('R2 SCORE:', r2_score)"
   ]
  },
  {
   "cell_type": "markdown",
   "metadata": {},
   "source": [
    "Based on the results above, using decision tree regression will give an accurate prediction of the overall performance of the students."
   ]
  },
  {
   "cell_type": "markdown",
   "metadata": {
    "id": "5sni7cjJgrXv"
   },
   "source": [
    "# Machine Learning Algorithm 2 : NEURAL NETWORK ARCHITECTURE#"
   ]
  },
  {
   "cell_type": "code",
   "execution_count": 31,
   "metadata": {
    "id": "8xJQQfNegrXv"
   },
   "outputs": [],
   "source": [
    "#Import packages\n",
    "from keras.models import Sequential\n",
    "from keras.layers import Dense\n",
    "import numpy as np\n",
    "from sklearn.model_selection import train_test_split"
   ]
  },
  {
   "cell_type": "code",
   "execution_count": 32,
   "metadata": {
    "colab": {
     "base_uri": "https://localhost:8080/"
    },
    "id": "vhYN4w5WgrXv",
    "outputId": "e5ec2ba3-980d-4213-d3fb-0f1a2b1978ef"
   },
   "outputs": [
    {
     "name": "stdout",
     "output_type": "stream",
     "text": [
      "Model: \"sequential\"\n",
      "_________________________________________________________________\n",
      " Layer (type)                Output Shape              Param #   \n",
      "=================================================================\n",
      " dense (Dense)               (None, 5)                 30        \n",
      "                                                                 \n",
      " dense_1 (Dense)             (None, 2670)              16020     \n",
      "                                                                 \n",
      " dense_2 (Dense)             (None, 1)                 2671      \n",
      "                                                                 \n",
      "=================================================================\n",
      "Total params: 18,721\n",
      "Trainable params: 18,721\n",
      "Non-trainable params: 0\n",
      "_________________________________________________________________\n"
     ]
    }
   ],
   "source": [
    "model = Sequential()\n",
    "model.add(Dense(5, input_dim=5, kernel_initializer='normal', activation='relu'))\n",
    "model.add(Dense(2670, activation='relu'))\n",
    "model.add(Dense(1, activation='linear'))\n",
    "model.summary()"
   ]
  },
  {
   "cell_type": "markdown",
   "metadata": {
    "id": "wymTUZ4fhYyC"
   },
   "source": [
    "**Compile Model**"
   ]
  },
  {
   "cell_type": "code",
   "execution_count": 33,
   "metadata": {
    "id": "sYFUv-L4grXv"
   },
   "outputs": [],
   "source": [
    "model.compile(loss='mean_squared_error', optimizer='adam',\n",
    "              metrics=['mean_absolute_error'])"
   ]
  },
  {
   "cell_type": "code",
   "execution_count": 34,
   "metadata": {
    "colab": {
     "base_uri": "https://localhost:8080/",
     "height": 796
    },
    "id": "1EUNJEQhhFrh",
    "outputId": "ceef8863-86ab-4ffb-fc3d-f2c1f9fdd705"
   },
   "outputs": [
    {
     "name": "stdout",
     "output_type": "stream",
     "text": [
      "Epoch 1/10\n",
      "27/27 [==============================] - 2s 22ms/step - loss: 2822.7883 - mean_absolute_error: 50.2281 - val_loss: 350.2782 - val_mean_absolute_error: 18.2283\n",
      "Epoch 2/10\n",
      "27/27 [==============================] - 0s 6ms/step - loss: 94.1961 - mean_absolute_error: 8.0299 - val_loss: 15.2450 - val_mean_absolute_error: 3.6899\n",
      "Epoch 3/10\n",
      "27/27 [==============================] - 0s 6ms/step - loss: 11.7713 - mean_absolute_error: 2.8721 - val_loss: 3.3298 - val_mean_absolute_error: 1.6974\n",
      "Epoch 4/10\n",
      "27/27 [==============================] - 0s 6ms/step - loss: 0.9262 - mean_absolute_error: 0.7719 - val_loss: 0.6543 - val_mean_absolute_error: 0.6461\n",
      "Epoch 5/10\n",
      "27/27 [==============================] - 0s 6ms/step - loss: 0.5165 - mean_absolute_error: 0.5736 - val_loss: 0.5081 - val_mean_absolute_error: 0.5624\n",
      "Epoch 6/10\n",
      "27/27 [==============================] - 0s 6ms/step - loss: 0.4672 - mean_absolute_error: 0.5449 - val_loss: 0.4948 - val_mean_absolute_error: 0.5545\n",
      "Epoch 7/10\n",
      "27/27 [==============================] - 0s 6ms/step - loss: 0.4552 - mean_absolute_error: 0.5392 - val_loss: 0.4842 - val_mean_absolute_error: 0.5498\n",
      "Epoch 8/10\n",
      "27/27 [==============================] - 0s 7ms/step - loss: 0.4421 - mean_absolute_error: 0.5296 - val_loss: 0.4736 - val_mean_absolute_error: 0.5443\n",
      "Epoch 9/10\n",
      "27/27 [==============================] - 0s 7ms/step - loss: 0.4334 - mean_absolute_error: 0.5237 - val_loss: 0.4592 - val_mean_absolute_error: 0.5358\n",
      "Epoch 10/10\n",
      "27/27 [==============================] - 0s 6ms/step - loss: 0.4179 - mean_absolute_error: 0.5147 - val_loss: 0.4438 - val_mean_absolute_error: 0.5265\n"
     ]
    },
    {
     "data": {
      "image/png": "[encoded data removed]",
      "text/plain": [
       "<Figure size 432x288 with 1 Axes>"
      ]
     },
     "metadata": {
      "needs_background": "light"
     },
     "output_type": "display_data"
    }
   ],
   "source": [
    "import matplotlib.pyplot as plt\n",
    "\n",
    "history = model.fit(X_train, y_train, epochs=10, batch_size=30, validation_data=(X_test, y_test))\n",
    "\n",
    "# Plot the training and validation loss values\n",
    "plt.plot(history.history['loss'], label='Training Loss')\n",
    "plt.plot(history.history['val_loss'], label='Validation Loss')\n",
    "plt.xlabel('Epochs')\n",
    "plt.ylabel('Loss')\n",
    "plt.legend()\n",
    "plt.show()"
   ]
  },
  {
   "cell_type": "markdown",
   "metadata": {
    "id": "k5eUeiw5hhAg"
   },
   "source": [
    "**Model Evaluation on the Test set**"
   ]
  },
  {
   "cell_type": "code",
   "execution_count": 35,
   "metadata": {
    "colab": {
     "base_uri": "https://localhost:8080/"
    },
    "id": "cl7cBg5CgrXv",
    "outputId": "8412660b-5fff-40e1-97e9-ba43f5fef8b7"
   },
   "outputs": [
    {
     "name": "stdout",
     "output_type": "stream",
     "text": [
      "7/7 [==============================] - 0s 3ms/step\n"
     ]
    },
    {
     "data": {
      "text/plain": [
       "array([[75.73375 ],\n",
       "       [82.06517 ],\n",
       "       [52.42474 ],\n",
       "       [92.38396 ],\n",
       "       [69.077385],\n",
       "       [67.493484],\n",
       "       [97.734634],\n",
       "       [79.916664],\n",
       "       [78.19662 ],\n",
       "       [76.00951 ],\n",
       "       [58.427345],\n",
       "       [55.755836],\n",
       "       [59.200363],\n",
       "       [72.36994 ],\n",
       "       [38.119087],\n",
       "       [35.74185 ],\n",
       "       [82.22506 ],\n",
       "       [75.88484 ],\n",
       "       [73.27273 ],\n",
       "       [81.9132  ],\n",
       "       [52.69755 ],\n",
       "       [76.779854],\n",
       "       [71.243515],\n",
       "       [92.633934],\n",
       "       [65.788536],\n",
       "       [93.87083 ],\n",
       "       [77.314316],\n",
       "       [79.01655 ],\n",
       "       [74.21626 ],\n",
       "       [57.671043],\n",
       "       [82.261185],\n",
       "       [64.55439 ],\n",
       "       [46.22587 ],\n",
       "       [84.688835],\n",
       "       [78.30547 ],\n",
       "       [62.434345],\n",
       "       [73.43357 ],\n",
       "       [91.697685],\n",
       "       [67.01203 ],\n",
       "       [56.922077],\n",
       "       [59.230385],\n",
       "       [97.77437 ],\n",
       "       [47.481266],\n",
       "       [59.092438],\n",
       "       [43.722435],\n",
       "       [75.262024],\n",
       "       [63.503204],\n",
       "       [72.46702 ],\n",
       "       [66.73923 ],\n",
       "       [66.70562 ],\n",
       "       [63.970657],\n",
       "       [55.55108 ],\n",
       "       [45.613667],\n",
       "       [70.129524],\n",
       "       [50.97495 ],\n",
       "       [81.39203 ],\n",
       "       [65.87526 ],\n",
       "       [89.85138 ],\n",
       "       [69.657974],\n",
       "       [76.66216 ],\n",
       "       [48.445065],\n",
       "       [53.60402 ],\n",
       "       [84.90425 ],\n",
       "       [64.757645],\n",
       "       [94.01825 ],\n",
       "       [87.16749 ],\n",
       "       [93.70548 ],\n",
       "       [66.28516 ],\n",
       "       [65.63133 ],\n",
       "       [61.315197],\n",
       "       [48.054726],\n",
       "       [75.802666],\n",
       "       [78.11465 ],\n",
       "       [64.93697 ],\n",
       "       [64.66322 ],\n",
       "       [64.04926 ],\n",
       "       [95.45812 ],\n",
       "       [86.00064 ],\n",
       "       [64.24791 ],\n",
       "       [64.976875],\n",
       "       [65.61376 ],\n",
       "       [63.087257],\n",
       "       [78.82915 ],\n",
       "       [48.26826 ],\n",
       "       [78.80444 ],\n",
       "       [42.112762],\n",
       "       [76.968796],\n",
       "       [70.721405],\n",
       "       [58.286907],\n",
       "       [63.500507],\n",
       "       [74.23817 ],\n",
       "       [58.005096],\n",
       "       [74.56606 ],\n",
       "       [65.58821 ],\n",
       "       [85.216125],\n",
       "       [69.97595 ],\n",
       "       [67.330894],\n",
       "       [57.65256 ],\n",
       "       [78.5254  ],\n",
       "       [91.973145],\n",
       "       [85.96786 ],\n",
       "       [48.326527],\n",
       "       [42.827465],\n",
       "       [77.34255 ],\n",
       "       [84.50765 ],\n",
       "       [46.023544],\n",
       "       [73.403496],\n",
       "       [86.23301 ],\n",
       "       [89.58713 ],\n",
       "       [70.52718 ],\n",
       "       [55.633224],\n",
       "       [67.4901  ],\n",
       "       [71.26744 ],\n",
       "       [97.18338 ],\n",
       "       [68.49433 ],\n",
       "       [68.486404],\n",
       "       [81.9184  ],\n",
       "       [49.27541 ],\n",
       "       [80.093475],\n",
       "       [53.91222 ],\n",
       "       [48.123516],\n",
       "       [79.19929 ],\n",
       "       [58.67195 ],\n",
       "       [63.01022 ],\n",
       "       [90.28944 ],\n",
       "       [47.02626 ],\n",
       "       [79.509514],\n",
       "       [65.88833 ],\n",
       "       [73.951065],\n",
       "       [80.49006 ],\n",
       "       [84.064186],\n",
       "       [64.4758  ],\n",
       "       [69.29217 ],\n",
       "       [69.4733  ],\n",
       "       [67.38484 ],\n",
       "       [59.64457 ],\n",
       "       [65.09861 ],\n",
       "       [57.931675],\n",
       "       [46.83992 ],\n",
       "       [59.55441 ],\n",
       "       [92.147316],\n",
       "       [66.21442 ],\n",
       "       [89.5668  ],\n",
       "       [99.67646 ],\n",
       "       [50.54246 ],\n",
       "       [69.31432 ],\n",
       "       [46.950172],\n",
       "       [33.33725 ],\n",
       "       [78.25059 ],\n",
       "       [73.057976],\n",
       "       [63.242603],\n",
       "       [89.115364],\n",
       "       [59.00592 ],\n",
       "       [81.08988 ],\n",
       "       [76.38572 ],\n",
       "       [40.92376 ],\n",
       "       [77.69236 ],\n",
       "       [80.33813 ],\n",
       "       [70.94859 ],\n",
       "       [76.87261 ],\n",
       "       [51.52619 ],\n",
       "       [78.87157 ],\n",
       "       [37.642796],\n",
       "       [76.71974 ],\n",
       "       [73.342545],\n",
       "       [53.873455],\n",
       "       [59.557194],\n",
       "       [31.082838],\n",
       "       [67.50863 ],\n",
       "       [71.13853 ],\n",
       "       [46.24802 ],\n",
       "       [51.78164 ],\n",
       "       [83.68075 ],\n",
       "       [66.14736 ],\n",
       "       [61.307087],\n",
       "       [78.72504 ],\n",
       "       [54.901596],\n",
       "       [85.02528 ],\n",
       "       [81.5261  ],\n",
       "       [72.66665 ],\n",
       "       [62.99892 ],\n",
       "       [42.918533],\n",
       "       [47.97061 ],\n",
       "       [75.368904],\n",
       "       [65.19503 ],\n",
       "       [60.208183],\n",
       "       [51.875107],\n",
       "       [64.04652 ],\n",
       "       [81.37599 ],\n",
       "       [60.68871 ],\n",
       "       [48.222416],\n",
       "       [34.515602],\n",
       "       [67.62693 ],\n",
       "       [68.38235 ],\n",
       "       [64.05282 ],\n",
       "       [48.452988],\n",
       "       [51.02715 ],\n",
       "       [81.797356],\n",
       "       [81.5343  ],\n",
       "       [76.31255 ]], dtype=float32)"
      ]
     },
     "execution_count": 35,
     "metadata": {},
     "output_type": "execute_result"
    }
   ],
   "source": [
    "predictions1 = model.predict(X_test)\n",
    "predictions1"
   ]
  },
  {
   "cell_type": "code",
   "execution_count": 36,
   "metadata": {
    "colab": {
     "base_uri": "https://localhost:8080/"
    },
    "id": "oi90S0oxgrXw",
    "outputId": "72668557-d4e8-486a-881d-241d5c16f7c3"
   },
   "outputs": [
    {
     "name": "stdout",
     "output_type": "stream",
     "text": [
      "Mean Absolute Error: 0.526529378890991\n",
      "Mean Squared Error: 0.4438356419483428\n",
      "Root Mean Squared Error: 0.6662099083234524\n"
     ]
    }
   ],
   "source": [
    "from sklearn import metrics\n",
    "\n",
    "print('Mean Absolute Error:', metrics.mean_absolute_error(y_test, predictions1))\n",
    "print('Mean Squared Error:', metrics.mean_squared_error(y_test, predictions1))\n",
    "print('Root Mean Squared Error:', np.sqrt(metrics.mean_squared_error(y_test, predictions1)))"
   ]
  },
  {
   "cell_type": "markdown",
   "metadata": {
    "id": "pvIcoNV_hvS7"
   },
   "source": [
    "**Model Improvement**"
   ]
  },
  {
   "cell_type": "code",
   "execution_count": 37,
   "metadata": {
    "id": "9WmP2P_RgrXw"
   },
   "outputs": [],
   "source": [
    "from tensorflow.keras.models import Sequential\n",
    "from tensorflow.keras.layers import Dense, BatchNormalization, Dropout"
   ]
  },
  {
   "cell_type": "code",
   "execution_count": 38,
   "metadata": {
    "id": "wztwegTtgrXw"
   },
   "outputs": [],
   "source": [
    "model2 = Sequential()\n",
    "model2.add(Dense(5, input_dim=5, kernel_initializer='normal', activation='relu'))\n",
    "model2.add(BatchNormalization())  # Add batch normalization layer\n",
    "model2.add(Dense(2670, activation='relu'))\n",
    "model2.add(BatchNormalization())  # Add batch normalization layer\n",
    "# model2.add(Dropout(0.5))  # Add dropout layer with a dropout rate of 0.5\n",
    "model2.add(Dense(1, activation='linear'))"
   ]
  },
  {
   "cell_type": "code",
   "execution_count": 39,
   "metadata": {
    "colab": {
     "base_uri": "https://localhost:8080/"
    },
    "id": "buVVy47kgrXw",
    "outputId": "ff243d00-5f10-457a-950b-4c7bd380f3e3"
   },
   "outputs": [
    {
     "name": "stdout",
     "output_type": "stream",
     "text": [
      "Model: \"sequential_1\"\n",
      "_________________________________________________________________\n",
      " Layer (type)                Output Shape              Param #   \n",
      "=================================================================\n",
      " dense_3 (Dense)             (None, 5)                 30        \n",
      "                                                                 \n",
      " batch_normalization (BatchN  (None, 5)                20        \n",
      " ormalization)                                                   \n",
      "                                                                 \n",
      " dense_4 (Dense)             (None, 2670)              16020     \n",
      "                                                                 \n",
      " batch_normalization_1 (Batc  (None, 2670)             10680     \n",
      " hNormalization)                                                 \n",
      "                                                                 \n",
      " dense_5 (Dense)             (None, 1)                 2671      \n",
      "                                                                 \n",
      "=================================================================\n",
      "Total params: 29,421\n",
      "Trainable params: 24,071\n",
      "Non-trainable params: 5,350\n",
      "_________________________________________________________________\n"
     ]
    }
   ],
   "source": [
    "model2.summary()"
   ]
  },
  {
   "cell_type": "code",
   "execution_count": 40,
   "metadata": {
    "id": "78wp2-4Kh9eu"
   },
   "outputs": [],
   "source": [
    "model2.compile(loss='mean_squared_error', optimizer='adam',\n",
    "              metrics=['mean_absolute_error'])"
   ]
  },
  {
   "cell_type": "code",
   "execution_count": 41,
   "metadata": {
    "colab": {
     "base_uri": "https://localhost:8080/",
     "height": 1000
    },
    "id": "25jXbMFKiAUL",
    "outputId": "dc3d177b-e9f3-4c41-beb1-e2b74916b112"
   },
   "outputs": [
    {
     "name": "stdout",
     "output_type": "stream",
     "text": [
      "Epoch 1/100\n",
      "13/13 [==============================] - 3s 44ms/step - loss: 4571.5693 - mean_absolute_error: 67.2435 - val_loss: 4167.5898 - val_mean_absolute_error: 63.0375\n",
      "Epoch 2/100\n",
      "13/13 [==============================] - 0s 13ms/step - loss: 4403.7788 - mean_absolute_error: 66.2804 - val_loss: 4243.0020 - val_mean_absolute_error: 63.5689\n",
      "Epoch 3/100\n",
      "13/13 [==============================] - 0s 13ms/step - loss: 4197.0649 - mean_absolute_error: 64.7096 - val_loss: 3907.3459 - val_mean_absolute_error: 60.9232\n",
      "Epoch 4/100\n",
      "13/13 [==============================] - 0s 13ms/step - loss: 3841.6919 - mean_absolute_error: 61.9179 - val_loss: 3446.3926 - val_mean_absolute_error: 57.0626\n",
      "Epoch 5/100\n",
      "13/13 [==============================] - 0s 13ms/step - loss: 3315.2656 - mean_absolute_error: 57.4669 - val_loss: 2899.7903 - val_mean_absolute_error: 52.0502\n",
      "Epoch 6/100\n",
      "13/13 [==============================] - 0s 11ms/step - loss: 2627.7153 - mean_absolute_error: 51.1482 - val_loss: 2236.3423 - val_mean_absolute_error: 45.2075\n",
      "Epoch 7/100\n",
      "13/13 [==============================] - 0s 12ms/step - loss: 1867.9502 - mean_absolute_error: 43.0894 - val_loss: 1584.2798 - val_mean_absolute_error: 37.2002\n",
      "Epoch 8/100\n",
      "13/13 [==============================] - 0s 14ms/step - loss: 1161.5898 - mean_absolute_error: 33.6752 - val_loss: 898.0170 - val_mean_absolute_error: 26.9510\n",
      "Epoch 9/100\n",
      "13/13 [==============================] - 0s 13ms/step - loss: 591.6308 - mean_absolute_error: 23.8286 - val_loss: 473.5049 - val_mean_absolute_error: 18.5699\n",
      "Epoch 10/100\n",
      "13/13 [==============================] - 0s 13ms/step - loss: 235.4008 - mean_absolute_error: 14.7091 - val_loss: 286.2661 - val_mean_absolute_error: 14.1532\n",
      "Epoch 11/100\n",
      "13/13 [==============================] - 0s 13ms/step - loss: 62.9526 - mean_absolute_error: 7.4211 - val_loss: 201.3078 - val_mean_absolute_error: 11.5554\n",
      "Epoch 12/100\n",
      "13/13 [==============================] - 0s 12ms/step - loss: 10.1966 - mean_absolute_error: 2.7359 - val_loss: 184.7863 - val_mean_absolute_error: 11.0086\n",
      "Epoch 13/100\n",
      "13/13 [==============================] - 0s 12ms/step - loss: 4.6734 - mean_absolute_error: 1.7464 - val_loss: 184.1930 - val_mean_absolute_error: 10.9618\n",
      "Epoch 14/100\n",
      "13/13 [==============================] - 0s 12ms/step - loss: 4.5059 - mean_absolute_error: 1.6399 - val_loss: 186.9778 - val_mean_absolute_error: 11.0343\n",
      "Epoch 15/100\n",
      "13/13 [==============================] - 0s 13ms/step - loss: 4.8395 - mean_absolute_error: 1.7950 - val_loss: 189.3906 - val_mean_absolute_error: 11.1242\n",
      "Epoch 16/100\n",
      "13/13 [==============================] - 0s 13ms/step - loss: 7.8469 - mean_absolute_error: 2.1448 - val_loss: 184.5319 - val_mean_absolute_error: 10.9853\n",
      "Epoch 17/100\n",
      "13/13 [==============================] - 0s 13ms/step - loss: 7.3561 - mean_absolute_error: 2.1277 - val_loss: 168.2543 - val_mean_absolute_error: 10.4749\n",
      "Epoch 18/100\n",
      "13/13 [==============================] - 0s 13ms/step - loss: 9.9166 - mean_absolute_error: 2.4567 - val_loss: 170.5586 - val_mean_absolute_error: 10.5147\n",
      "Epoch 19/100\n",
      "13/13 [==============================] - 0s 13ms/step - loss: 5.4081 - mean_absolute_error: 1.8352 - val_loss: 169.9540 - val_mean_absolute_error: 10.5107\n",
      "Epoch 20/100\n",
      "13/13 [==============================] - 0s 14ms/step - loss: 6.4152 - mean_absolute_error: 1.9214 - val_loss: 178.5919 - val_mean_absolute_error: 10.7925\n",
      "Epoch 21/100\n",
      "13/13 [==============================] - 0s 13ms/step - loss: 8.4268 - mean_absolute_error: 2.2795 - val_loss: 153.7645 - val_mean_absolute_error: 9.9734\n",
      "Epoch 22/100\n",
      "13/13 [==============================] - 0s 12ms/step - loss: 8.9069 - mean_absolute_error: 2.4483 - val_loss: 161.7309 - val_mean_absolute_error: 10.2745\n",
      "Epoch 23/100\n",
      "13/13 [==============================] - 0s 13ms/step - loss: 7.0691 - mean_absolute_error: 2.0925 - val_loss: 158.7296 - val_mean_absolute_error: 10.1768\n",
      "Epoch 24/100\n",
      "13/13 [==============================] - 0s 13ms/step - loss: 6.4947 - mean_absolute_error: 1.9426 - val_loss: 153.4391 - val_mean_absolute_error: 10.0167\n",
      "Epoch 25/100\n",
      "13/13 [==============================] - 0s 13ms/step - loss: 3.5336 - mean_absolute_error: 1.5397 - val_loss: 154.9638 - val_mean_absolute_error: 10.0732\n",
      "Epoch 26/100\n",
      "13/13 [==============================] - 0s 13ms/step - loss: 2.8623 - mean_absolute_error: 1.3958 - val_loss: 165.7134 - val_mean_absolute_error: 10.4354\n",
      "Epoch 27/100\n",
      "13/13 [==============================] - 0s 11ms/step - loss: 7.6768 - mean_absolute_error: 2.1065 - val_loss: 148.9448 - val_mean_absolute_error: 9.8498\n",
      "Epoch 28/100\n",
      "13/13 [==============================] - 0s 13ms/step - loss: 6.2982 - mean_absolute_error: 1.9382 - val_loss: 128.8810 - val_mean_absolute_error: 9.1281\n",
      "Epoch 29/100\n",
      "13/13 [==============================] - 0s 13ms/step - loss: 5.0494 - mean_absolute_error: 1.6639 - val_loss: 159.2825 - val_mean_absolute_error: 10.2414\n",
      "Epoch 30/100\n",
      "13/13 [==============================] - 0s 13ms/step - loss: 6.3595 - mean_absolute_error: 1.9301 - val_loss: 125.9195 - val_mean_absolute_error: 9.0082\n",
      "Epoch 31/100\n",
      "13/13 [==============================] - 0s 14ms/step - loss: 5.4414 - mean_absolute_error: 1.8969 - val_loss: 119.9266 - val_mean_absolute_error: 8.7951\n",
      "Epoch 32/100\n",
      "13/13 [==============================] - 0s 12ms/step - loss: 7.2281 - mean_absolute_error: 2.2902 - val_loss: 133.1218 - val_mean_absolute_error: 9.3032\n",
      "Epoch 33/100\n",
      "13/13 [==============================] - 0s 14ms/step - loss: 5.6720 - mean_absolute_error: 1.8773 - val_loss: 122.4743 - val_mean_absolute_error: 8.9020\n",
      "Epoch 34/100\n",
      "13/13 [==============================] - 0s 13ms/step - loss: 6.9253 - mean_absolute_error: 2.1496 - val_loss: 117.3649 - val_mean_absolute_error: 8.7369\n",
      "Epoch 35/100\n",
      "13/13 [==============================] - 0s 14ms/step - loss: 8.5267 - mean_absolute_error: 2.2308 - val_loss: 128.0456 - val_mean_absolute_error: 9.2347\n",
      "Epoch 36/100\n",
      "13/13 [==============================] - 0s 13ms/step - loss: 6.1947 - mean_absolute_error: 1.9480 - val_loss: 93.7283 - val_mean_absolute_error: 7.8176\n",
      "Epoch 37/100\n",
      "13/13 [==============================] - 0s 11ms/step - loss: 7.3242 - mean_absolute_error: 2.0505 - val_loss: 78.9407 - val_mean_absolute_error: 7.1185\n",
      "Epoch 38/100\n",
      "13/13 [==============================] - 0s 11ms/step - loss: 6.4216 - mean_absolute_error: 1.9950 - val_loss: 123.9632 - val_mean_absolute_error: 9.0742\n",
      "Epoch 39/100\n",
      "13/13 [==============================] - 0s 12ms/step - loss: 8.7844 - mean_absolute_error: 2.2738 - val_loss: 102.6467 - val_mean_absolute_error: 8.1671\n",
      "Epoch 40/100\n",
      "13/13 [==============================] - 0s 12ms/step - loss: 4.6959 - mean_absolute_error: 1.6844 - val_loss: 95.7486 - val_mean_absolute_error: 7.8004\n",
      "Epoch 41/100\n",
      "13/13 [==============================] - 0s 11ms/step - loss: 5.8358 - mean_absolute_error: 2.0086 - val_loss: 84.3740 - val_mean_absolute_error: 7.2913\n",
      "Epoch 42/100\n",
      "13/13 [==============================] - 0s 12ms/step - loss: 3.1692 - mean_absolute_error: 1.3100 - val_loss: 76.4551 - val_mean_absolute_error: 6.8426\n",
      "Epoch 43/100\n",
      "13/13 [==============================] - 0s 12ms/step - loss: 6.3190 - mean_absolute_error: 1.8357 - val_loss: 56.5076 - val_mean_absolute_error: 5.8928\n",
      "Epoch 44/100\n",
      "13/13 [==============================] - 0s 15ms/step - loss: 4.7352 - mean_absolute_error: 1.6390 - val_loss: 55.4623 - val_mean_absolute_error: 5.8384\n",
      "Epoch 45/100\n",
      "13/13 [==============================] - 0s 13ms/step - loss: 4.3449 - mean_absolute_error: 1.7532 - val_loss: 35.5262 - val_mean_absolute_error: 4.4936\n",
      "Epoch 46/100\n",
      "13/13 [==============================] - 0s 15ms/step - loss: 6.2183 - mean_absolute_error: 1.9444 - val_loss: 40.0054 - val_mean_absolute_error: 4.6830\n",
      "Epoch 47/100\n",
      "13/13 [==============================] - 0s 12ms/step - loss: 5.8604 - mean_absolute_error: 2.0114 - val_loss: 38.9040 - val_mean_absolute_error: 4.7512\n",
      "Epoch 48/100\n",
      "13/13 [==============================] - 0s 12ms/step - loss: 3.1330 - mean_absolute_error: 1.2280 - val_loss: 25.1835 - val_mean_absolute_error: 3.7033\n",
      "Epoch 49/100\n",
      "13/13 [==============================] - 0s 12ms/step - loss: 4.0343 - mean_absolute_error: 1.4857 - val_loss: 31.7716 - val_mean_absolute_error: 4.3507\n"
     ]
    },
    {
     "name": "stdout",
     "output_type": "stream",
     "text": [
      "Epoch 50/100\n",
      "13/13 [==============================] - 0s 12ms/step - loss: 4.4214 - mean_absolute_error: 1.5845 - val_loss: 29.0176 - val_mean_absolute_error: 4.1562\n",
      "Epoch 51/100\n",
      "13/13 [==============================] - 0s 15ms/step - loss: 7.9891 - mean_absolute_error: 2.2136 - val_loss: 18.9689 - val_mean_absolute_error: 3.4137\n",
      "Epoch 52/100\n",
      "13/13 [==============================] - 0s 14ms/step - loss: 3.4302 - mean_absolute_error: 1.4443 - val_loss: 19.8528 - val_mean_absolute_error: 3.5682\n",
      "Epoch 53/100\n",
      "13/13 [==============================] - 0s 13ms/step - loss: 7.6738 - mean_absolute_error: 2.2392 - val_loss: 16.6133 - val_mean_absolute_error: 3.7160\n",
      "Epoch 54/100\n",
      "13/13 [==============================] - 0s 14ms/step - loss: 6.5841 - mean_absolute_error: 1.9703 - val_loss: 23.5216 - val_mean_absolute_error: 3.7974\n",
      "Epoch 55/100\n",
      "13/13 [==============================] - 0s 15ms/step - loss: 3.9433 - mean_absolute_error: 1.4976 - val_loss: 13.9562 - val_mean_absolute_error: 2.8089\n",
      "Epoch 56/100\n",
      "13/13 [==============================] - 0s 14ms/step - loss: 5.1305 - mean_absolute_error: 1.6869 - val_loss: 24.4199 - val_mean_absolute_error: 3.8076\n",
      "Epoch 57/100\n",
      "13/13 [==============================] - 0s 14ms/step - loss: 5.6668 - mean_absolute_error: 1.9769 - val_loss: 19.5060 - val_mean_absolute_error: 3.4538\n",
      "Epoch 58/100\n",
      "13/13 [==============================] - 0s 14ms/step - loss: 4.4621 - mean_absolute_error: 1.6000 - val_loss: 23.7165 - val_mean_absolute_error: 4.7680\n",
      "Epoch 59/100\n",
      "13/13 [==============================] - 0s 13ms/step - loss: 7.3953 - mean_absolute_error: 2.1863 - val_loss: 26.3310 - val_mean_absolute_error: 5.0463\n",
      "Epoch 60/100\n",
      "13/13 [==============================] - 0s 15ms/step - loss: 3.9778 - mean_absolute_error: 1.6567 - val_loss: 21.4805 - val_mean_absolute_error: 4.4579\n",
      "Epoch 61/100\n",
      "13/13 [==============================] - 0s 13ms/step - loss: 4.0794 - mean_absolute_error: 1.5204 - val_loss: 24.1733 - val_mean_absolute_error: 4.8538\n",
      "Epoch 62/100\n",
      "13/13 [==============================] - 0s 16ms/step - loss: 5.5220 - mean_absolute_error: 1.9219 - val_loss: 18.8836 - val_mean_absolute_error: 3.6570\n",
      "Epoch 63/100\n",
      "13/13 [==============================] - 0s 13ms/step - loss: 5.6622 - mean_absolute_error: 1.8773 - val_loss: 13.6923 - val_mean_absolute_error: 3.1050\n",
      "Epoch 64/100\n",
      "13/13 [==============================] - 0s 16ms/step - loss: 5.4858 - mean_absolute_error: 1.8559 - val_loss: 8.8850 - val_mean_absolute_error: 2.8383\n",
      "Epoch 65/100\n",
      "13/13 [==============================] - 0s 12ms/step - loss: 4.2169 - mean_absolute_error: 1.6082 - val_loss: 18.4508 - val_mean_absolute_error: 4.1087\n",
      "Epoch 66/100\n",
      "13/13 [==============================] - 0s 14ms/step - loss: 5.2445 - mean_absolute_error: 1.8764 - val_loss: 14.0166 - val_mean_absolute_error: 3.0152\n",
      "Epoch 67/100\n",
      "13/13 [==============================] - 0s 13ms/step - loss: 4.3574 - mean_absolute_error: 1.7477 - val_loss: 14.0775 - val_mean_absolute_error: 2.8511\n",
      "Epoch 68/100\n",
      "13/13 [==============================] - 0s 12ms/step - loss: 3.0310 - mean_absolute_error: 1.3064 - val_loss: 11.5148 - val_mean_absolute_error: 2.6563\n",
      "Epoch 69/100\n",
      "13/13 [==============================] - 0s 15ms/step - loss: 6.1472 - mean_absolute_error: 1.8521 - val_loss: 6.3810 - val_mean_absolute_error: 1.9200\n",
      "Epoch 70/100\n",
      "13/13 [==============================] - 0s 14ms/step - loss: 7.0034 - mean_absolute_error: 2.2606 - val_loss: 2.2798 - val_mean_absolute_error: 1.3634\n",
      "Epoch 71/100\n",
      "13/13 [==============================] - 0s 13ms/step - loss: 3.8827 - mean_absolute_error: 1.4374 - val_loss: 1.8043 - val_mean_absolute_error: 1.2178\n",
      "Epoch 72/100\n",
      "13/13 [==============================] - 0s 16ms/step - loss: 3.9402 - mean_absolute_error: 1.6115 - val_loss: 4.7517 - val_mean_absolute_error: 1.9431\n",
      "Epoch 73/100\n",
      "13/13 [==============================] - 0s 16ms/step - loss: 4.4430 - mean_absolute_error: 1.6162 - val_loss: 6.8126 - val_mean_absolute_error: 2.4984\n",
      "Epoch 74/100\n",
      "13/13 [==============================] - 0s 15ms/step - loss: 4.6760 - mean_absolute_error: 1.7592 - val_loss: 8.5763 - val_mean_absolute_error: 2.6284\n",
      "Epoch 75/100\n",
      "13/13 [==============================] - 0s 16ms/step - loss: 6.2810 - mean_absolute_error: 2.0093 - val_loss: 10.1145 - val_mean_absolute_error: 2.5832\n",
      "Epoch 76/100\n",
      "13/13 [==============================] - 0s 12ms/step - loss: 8.3346 - mean_absolute_error: 2.1768 - val_loss: 13.3208 - val_mean_absolute_error: 3.6286\n",
      "Epoch 77/100\n",
      "13/13 [==============================] - 0s 15ms/step - loss: 7.3710 - mean_absolute_error: 2.0945 - val_loss: 49.3543 - val_mean_absolute_error: 5.9994\n",
      "Epoch 78/100\n",
      "13/13 [==============================] - 0s 12ms/step - loss: 5.2012 - mean_absolute_error: 1.7894 - val_loss: 28.0363 - val_mean_absolute_error: 5.1585\n",
      "Epoch 79/100\n",
      "13/13 [==============================] - 0s 13ms/step - loss: 5.1472 - mean_absolute_error: 1.7407 - val_loss: 29.6231 - val_mean_absolute_error: 5.1106\n",
      "Epoch 80/100\n",
      "13/13 [==============================] - 0s 11ms/step - loss: 7.1936 - mean_absolute_error: 1.9318 - val_loss: 34.2625 - val_mean_absolute_error: 4.9509\n",
      "Epoch 81/100\n",
      "13/13 [==============================] - 0s 13ms/step - loss: 4.5411 - mean_absolute_error: 1.6966 - val_loss: 9.4380 - val_mean_absolute_error: 3.0374\n",
      "Epoch 82/100\n",
      "13/13 [==============================] - 0s 12ms/step - loss: 4.8392 - mean_absolute_error: 1.7783 - val_loss: 6.7172 - val_mean_absolute_error: 2.0976\n",
      "Epoch 83/100\n",
      "13/13 [==============================] - 0s 11ms/step - loss: 3.6204 - mean_absolute_error: 1.5146 - val_loss: 7.7556 - val_mean_absolute_error: 2.4760\n",
      "Epoch 84/100\n",
      "13/13 [==============================] - 0s 15ms/step - loss: 4.6825 - mean_absolute_error: 1.6108 - val_loss: 5.9130 - val_mean_absolute_error: 2.3984\n",
      "Epoch 85/100\n",
      "13/13 [==============================] - 0s 11ms/step - loss: 3.8224 - mean_absolute_error: 1.5756 - val_loss: 5.1569 - val_mean_absolute_error: 1.6471\n",
      "Epoch 86/100\n",
      "13/13 [==============================] - 0s 13ms/step - loss: 6.0724 - mean_absolute_error: 2.0332 - val_loss: 2.8084 - val_mean_absolute_error: 1.2527\n",
      "Epoch 87/100\n",
      "13/13 [==============================] - 0s 12ms/step - loss: 8.1149 - mean_absolute_error: 2.2210 - val_loss: 1.4347 - val_mean_absolute_error: 0.9418\n",
      "Epoch 88/100\n",
      "13/13 [==============================] - 0s 11ms/step - loss: 6.0677 - mean_absolute_error: 1.8793 - val_loss: 7.0272 - val_mean_absolute_error: 2.0283\n",
      "Epoch 89/100\n",
      "13/13 [==============================] - 0s 12ms/step - loss: 7.3108 - mean_absolute_error: 2.2141 - val_loss: 6.6057 - val_mean_absolute_error: 1.9806\n",
      "Epoch 90/100\n",
      "13/13 [==============================] - 0s 11ms/step - loss: 4.5316 - mean_absolute_error: 1.4614 - val_loss: 1.7863 - val_mean_absolute_error: 1.0015\n",
      "Epoch 91/100\n",
      "13/13 [==============================] - 0s 11ms/step - loss: 8.9526 - mean_absolute_error: 2.3623 - val_loss: 1.7555 - val_mean_absolute_error: 1.1355\n",
      "Epoch 92/100\n",
      "13/13 [==============================] - 0s 13ms/step - loss: 7.7774 - mean_absolute_error: 2.1819 - val_loss: 9.9527 - val_mean_absolute_error: 2.5622\n",
      "Epoch 93/100\n",
      "13/13 [==============================] - 0s 13ms/step - loss: 7.9999 - mean_absolute_error: 2.2170 - val_loss: 8.7799 - val_mean_absolute_error: 2.5105\n",
      "Epoch 94/100\n",
      "13/13 [==============================] - 0s 11ms/step - loss: 5.5372 - mean_absolute_error: 1.9808 - val_loss: 1.4740 - val_mean_absolute_error: 0.9006\n",
      "Epoch 95/100\n",
      "13/13 [==============================] - 0s 11ms/step - loss: 5.3528 - mean_absolute_error: 1.9359 - val_loss: 2.2032 - val_mean_absolute_error: 1.3216\n",
      "Epoch 96/100\n",
      "13/13 [==============================] - 0s 15ms/step - loss: 4.0770 - mean_absolute_error: 1.5964 - val_loss: 0.6515 - val_mean_absolute_error: 0.5864\n",
      "Epoch 97/100\n",
      "13/13 [==============================] - 0s 14ms/step - loss: 2.8048 - mean_absolute_error: 1.4352 - val_loss: 2.3007 - val_mean_absolute_error: 1.2964\n",
      "Epoch 98/100\n",
      "13/13 [==============================] - 0s 12ms/step - loss: 6.6852 - mean_absolute_error: 2.0690 - val_loss: 8.2278 - val_mean_absolute_error: 2.4629\n",
      "Epoch 99/100\n"
     ]
    },
    {
     "name": "stdout",
     "output_type": "stream",
     "text": [
      "13/13 [==============================] - 0s 15ms/step - loss: 6.8207 - mean_absolute_error: 2.0117 - val_loss: 4.4398 - val_mean_absolute_error: 1.7667\n",
      "Epoch 100/100\n",
      "13/13 [==============================] - 0s 12ms/step - loss: 5.6923 - mean_absolute_error: 1.9946 - val_loss: 2.7420 - val_mean_absolute_error: 1.3811\n"
     ]
    },
    {
     "data": {
      "image/png": "[encoded data removed]",
      "text/plain": [
       "<Figure size 432x288 with 1 Axes>"
      ]
     },
     "metadata": {
      "needs_background": "light"
     },
     "output_type": "display_data"
    }
   ],
   "source": [
    "import matplotlib.pyplot as plt\n",
    "\n",
    "history = model2.fit(X_train, y_train, epochs=100, batch_size=64, validation_data=(X_test, y_test))\n",
    "\n",
    "# Plot the training and validation loss values\n",
    "plt.plot(history.history['loss'], label='Training Loss')\n",
    "plt.plot(history.history['val_loss'], label='Validation Loss')\n",
    "plt.xlabel('Epochs')\n",
    "plt.ylabel('Loss')\n",
    "plt.legend()\n",
    "plt.show()"
   ]
  },
  {
   "cell_type": "markdown",
   "metadata": {
    "id": "vRDefInmiFH-"
   },
   "source": [
    "**Model Evaluation for the Improve Model on the Test set**"
   ]
  },
  {
   "cell_type": "code",
   "execution_count": 42,
   "metadata": {
    "colab": {
     "base_uri": "https://localhost:8080/"
    },
    "id": "Q8Cm-OoeiBKT",
    "outputId": "e9c5289d-9561-4f78-e5d5-9bb94b6a50c8"
   },
   "outputs": [
    {
     "name": "stdout",
     "output_type": "stream",
     "text": [
      "7/7 [==============================] - 0s 3ms/step\n"
     ]
    },
    {
     "data": {
      "text/plain": [
       "array([[75.04135 ],\n",
       "       [79.79831 ],\n",
       "       [52.79086 ],\n",
       "       [89.08427 ],\n",
       "       [68.59594 ],\n",
       "       [67.565346],\n",
       "       [94.34432 ],\n",
       "       [77.93589 ],\n",
       "       [76.83242 ],\n",
       "       [74.65713 ],\n",
       "       [59.39273 ],\n",
       "       [56.753338],\n",
       "       [58.71716 ],\n",
       "       [70.715965],\n",
       "       [38.927387],\n",
       "       [36.689243],\n",
       "       [79.997986],\n",
       "       [74.23711 ],\n",
       "       [72.16444 ],\n",
       "       [80.26981 ],\n",
       "       [53.4604  ],\n",
       "       [74.69611 ],\n",
       "       [69.854385],\n",
       "       [89.722694],\n",
       "       [65.81632 ],\n",
       "       [90.878914],\n",
       "       [75.30986 ],\n",
       "       [77.62028 ],\n",
       "       [71.847725],\n",
       "       [59.82695 ],\n",
       "       [79.49789 ],\n",
       "       [65.096275],\n",
       "       [46.899628],\n",
       "       [82.43971 ],\n",
       "       [75.64797 ],\n",
       "       [62.839317],\n",
       "       [71.24862 ],\n",
       "       [88.13047 ],\n",
       "       [66.77244 ],\n",
       "       [56.590023],\n",
       "       [59.411106],\n",
       "       [94.65951 ],\n",
       "       [48.091625],\n",
       "       [59.122864],\n",
       "       [44.34523 ],\n",
       "       [73.540855],\n",
       "       [63.58547 ],\n",
       "       [70.600945],\n",
       "       [65.9542  ],\n",
       "       [66.5259  ],\n",
       "       [63.62592 ],\n",
       "       [54.668922],\n",
       "       [46.436165],\n",
       "       [68.95341 ],\n",
       "       [51.918472],\n",
       "       [79.042854],\n",
       "       [65.38748 ],\n",
       "       [86.457146],\n",
       "       [68.36653 ],\n",
       "       [75.545685],\n",
       "       [48.74011 ],\n",
       "       [54.377068],\n",
       "       [82.77256 ],\n",
       "       [64.00369 ],\n",
       "       [90.70046 ],\n",
       "       [84.96042 ],\n",
       "       [90.676125],\n",
       "       [64.51941 ],\n",
       "       [65.94403 ],\n",
       "       [60.98812 ],\n",
       "       [47.425697],\n",
       "       [73.75262 ],\n",
       "       [76.268074],\n",
       "       [64.473   ],\n",
       "       [65.07606 ],\n",
       "       [63.482277],\n",
       "       [92.80744 ],\n",
       "       [83.84096 ],\n",
       "       [65.451996],\n",
       "       [64.204765],\n",
       "       [64.21228 ],\n",
       "       [62.23587 ],\n",
       "       [77.16268 ],\n",
       "       [48.358063],\n",
       "       [77.68366 ],\n",
       "       [43.5044  ],\n",
       "       [74.64146 ],\n",
       "       [69.79517 ],\n",
       "       [58.384987],\n",
       "       [63.921585],\n",
       "       [72.95404 ],\n",
       "       [57.789894],\n",
       "       [72.79808 ],\n",
       "       [64.26647 ],\n",
       "       [82.4866  ],\n",
       "       [68.81079 ],\n",
       "       [67.59351 ],\n",
       "       [56.88443 ],\n",
       "       [76.84432 ],\n",
       "       [89.8216  ],\n",
       "       [83.50284 ],\n",
       "       [48.966713],\n",
       "       [44.50511 ],\n",
       "       [75.63509 ],\n",
       "       [82.33632 ],\n",
       "       [47.048744],\n",
       "       [71.898094],\n",
       "       [83.67894 ],\n",
       "       [86.847565],\n",
       "       [69.18071 ],\n",
       "       [56.42492 ],\n",
       "       [66.54118 ],\n",
       "       [70.09688 ],\n",
       "       [94.08851 ],\n",
       "       [68.22444 ],\n",
       "       [68.1721  ],\n",
       "       [79.89182 ],\n",
       "       [49.941647],\n",
       "       [77.77306 ],\n",
       "       [55.990364],\n",
       "       [48.090816],\n",
       "       [77.53745 ],\n",
       "       [58.504116],\n",
       "       [63.889168],\n",
       "       [87.77764 ],\n",
       "       [48.321545],\n",
       "       [77.31689 ],\n",
       "       [66.15349 ],\n",
       "       [74.82324 ],\n",
       "       [78.73545 ],\n",
       "       [81.87566 ],\n",
       "       [64.906334],\n",
       "       [68.18941 ],\n",
       "       [68.167694],\n",
       "       [66.76356 ],\n",
       "       [59.56699 ],\n",
       "       [65.805275],\n",
       "       [57.756203],\n",
       "       [47.125458],\n",
       "       [60.94274 ],\n",
       "       [88.95367 ],\n",
       "       [66.1604  ],\n",
       "       [86.90165 ],\n",
       "       [96.33244 ],\n",
       "       [49.44019 ],\n",
       "       [66.957344],\n",
       "       [48.039776],\n",
       "       [34.71334 ],\n",
       "       [75.89317 ],\n",
       "       [73.940605],\n",
       "       [63.13547 ],\n",
       "       [87.175865],\n",
       "       [58.524223],\n",
       "       [78.68913 ],\n",
       "       [74.17415 ],\n",
       "       [44.121914],\n",
       "       [76.21592 ],\n",
       "       [78.46194 ],\n",
       "       [68.83544 ],\n",
       "       [74.698906],\n",
       "       [52.286407],\n",
       "       [77.32987 ],\n",
       "       [39.33055 ],\n",
       "       [75.04745 ],\n",
       "       [71.81098 ],\n",
       "       [54.363934],\n",
       "       [59.46567 ],\n",
       "       [32.075344],\n",
       "       [66.50956 ],\n",
       "       [69.28819 ],\n",
       "       [47.754955],\n",
       "       [51.23525 ],\n",
       "       [81.87052 ],\n",
       "       [64.81758 ],\n",
       "       [61.595417],\n",
       "       [77.274574],\n",
       "       [55.948803],\n",
       "       [82.866646],\n",
       "       [81.35302 ],\n",
       "       [70.777   ],\n",
       "       [62.63492 ],\n",
       "       [44.08422 ],\n",
       "       [49.28323 ],\n",
       "       [73.68334 ],\n",
       "       [64.89229 ],\n",
       "       [62.28263 ],\n",
       "       [52.445324],\n",
       "       [63.533012],\n",
       "       [78.74694 ],\n",
       "       [61.96482 ],\n",
       "       [49.034424],\n",
       "       [35.43396 ],\n",
       "       [66.88686 ],\n",
       "       [66.50962 ],\n",
       "       [64.02048 ],\n",
       "       [49.052357],\n",
       "       [52.07338 ],\n",
       "       [79.98571 ],\n",
       "       [78.81618 ],\n",
       "       [74.021385]], dtype=float32)"
      ]
     },
     "execution_count": 42,
     "metadata": {},
     "output_type": "execute_result"
    }
   ],
   "source": [
    "predictions2 = model2.predict(X_test)\n",
    "predictions2"
   ]
  },
  {
   "cell_type": "markdown",
   "metadata": {
    "id": "UARrmea9iLaE"
   },
   "source": [
    "**Model Evaluation of Metrics for Improved Model**"
   ]
  },
  {
   "cell_type": "code",
   "execution_count": 43,
   "metadata": {
    "colab": {
     "base_uri": "https://localhost:8080/"
    },
    "id": "GHuqmWAKiK4G",
    "outputId": "8b880bcf-0761-40b1-d1c3-d0fb388eab5d"
   },
   "outputs": [
    {
     "name": "stdout",
     "output_type": "stream",
     "text": [
      "Mean Absolute Error: 1.381096547444661\n",
      "Mean Squared Error: 2.7420188953687057\n",
      "Root Mean Squared Error: 1.6559042530800825\n"
     ]
    }
   ],
   "source": [
    "print('Mean Absolute Error:', metrics.mean_absolute_error(y_test, predictions2))\n",
    "print('Mean Squared Error:', metrics.mean_squared_error(y_test, predictions2))\n",
    "print('Root Mean Squared Error:', np.sqrt(metrics.mean_squared_error(y_test, predictions2)))"
   ]
  },
  {
   "cell_type": "markdown",
   "metadata": {
    "id": "MmQd4vsFi6Cj"
   },
   "source": [
    "**CONCLUSION**"
   ]
  },
  {
   "cell_type": "markdown",
   "metadata": {
    "id": "9W5oYK2Ji3fs"
   },
   "source": [
    "Based on the two algorithms in the Neural Network applied in our program to predict the overall performance of student on her scores in exams in 3 subjects, the first NN model is higher in terms of the Mean Absolute Error. The Mean Squared of the second NN algorithm is lower compared to the first NN algorithm, so it has better overall fit on the model. The Root Mean Squared Error (RMSE) of the second NN algo is lower like the Mean Absolute Error indicating improved accuracy. Overall the second NN algorithm results used/applied demonstrates more accuracy and improved performace compare to the first."
   ]
  },
  {
   "cell_type": "code",
   "execution_count": null,
   "metadata": {
    "id": "0BhZ3A2Ni4t_"
   },
   "outputs": [],
   "source": []
  }
 ],
 "metadata": {
  "colab": {
   "provenance": []
  },
  "kernelspec": {
   "display_name": "Python 3",
   "language": "python",
   "name": "python3"
  },
  "language_info": {
   "codemirror_mode": {
    "name": "ipython",
    "version": 3
   },
   "file_extension": ".py",
   "mimetype": "text/x-python",
   "name": "python",
   "nbconvert_exporter": "python",
   "pygments_lexer": "ipython3",
   "version": "3.8.3"
  }
 },
 "nbformat": 4,
 "nbformat_minor": 1
}
